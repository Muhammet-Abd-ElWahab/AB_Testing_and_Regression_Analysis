{
 "cells": [
  {
   "cell_type": "markdown",
   "metadata": {},
   "source": [
    "# Project: AB Test for new oral insulin to treat diabetes!\n",
    "\n",
    "## Table of Contents\n",
    "<ul>\n",
    "<li><a href=\"#intro\">Introduction</a></li>\n",
    "<li><a href=\"#wrangling\">Data Wrangling</a></li>\n",
    "<li><a href=\"#eda\"> AB Test</a></li>\n",
    "<li><a href=\"#conclusions\">Conclusion_1</a></li>\n",
    "<li><a href=\"#conclusions_2\">Conclusion_2</a></li>\n",
    "</ul>"
   ]
  },
  {
   "cell_type": "markdown",
   "metadata": {},
   "source": [
    "<a id='intro'></a>\n",
    "## Introduction\n",
    "\n",
    "\n",
    "\n",
    "\n",
    "> **Descriptions:** This dataset has information about 350 patients participated in this clinical trial. None of the patients were using Novodra (a popular injectable insulin) or Auralin (the oral insulin being researched) as their primary source of insulin before.  All were experiencing elevated HbA1c levels.\n",
    "All 350 patients were treated with Novodra to establish a baseline HbA1c level and insulin dose. After four weeks, which isn’t enough time to capture all the change in HbA1c that can be attributed by the switch to Auralin or Novodra:\n",
    "> - 175 patients switched to Auralin for 24 weeks\n",
    "> - 175 patients continued using Novodra for 24 weeks\n",
    "\n",
    " **patient dataset columns descriptions:**\n",
    "\n",
    "- **patient_id**: the unique identifier for each patient.\n",
    "- **assigned_sex**: the assigned gender of each patient (male or female).\n",
    "- **given_name**: first name of each patient.\n",
    "- **surname**: last name of each patient.\n",
    "- **address**: the main address for each patient.\n",
    "- **city**: city for the main address.\n",
    "- **state**: state for the main address.\n",
    "- **zip_code**: zip code for the main address.\n",
    "- **country**: country for the main address (all United states for this clinical trial).\n",
    "- **contact**: phone number and email information.\n",
    "- **birthdate**: the date of birth of each patient (month/day/year). \n",
    "- **weight**: the weight in pounds (lbs).\n",
    "- **height**: the height in inches (in).\n",
    "- **bmi**: the Body Mass Index (BMI) of each patient. BMI is a simple calculation using a person's height and weight. The formula is BMI = kg/m<sup>2</sup> where kg is a person's weight in kilograms and m<sup>2</sup> is their height in metres squared. A BMI of 25.0 or more is overweight, while the healthy range is 18.5 to 24.9. bmi for this clinical trial is 16 >= BMI >= 38.*\n",
    "\n",
    "\n",
    "\n",
    " **treatment dataset columns descriptions:**\n",
    "- **given_name**: first name of each patient.\n",
    "- **surname**: last name of each patient.\n",
    "- **auralin**: the baseline median daily dose of insulin from the week prior to switching to Auralin (the number before the dash) *and* the ending median daily dose of insulin at the end of the 24 weeks of treatment measured over the 24th week of treatment (the number after the dash).\n",
    "- **novodra**: same as above, except for patients that continued treatment with Novodra\n",
    "- **hba1c_start**: the patient's HbA1c level at the beginning of the first week of treatment. HbA1c stands for Hemoglobin A1c.  measures what the average blood sugar has been over the past three months. It is thus a powerful way to get an overall sense of how well diabetes has been controlled. Everyone with diabetes should have this test 2 to 4 times per year. Measured in %.\n",
    "- **hba1c_end**: the patient's HbA1c level at the end of the last week of treatment\n",
    "- **hba1c_change**: the change in the patient's HbA1c level from the start of treatment to the end, i.e., `hba1c_start` - `hba1c_end`. For Auralin to be deemed effective, it must be \"noninferior\" to Novodra, the current standard for insulin. This \"noninferiority\" is statistically defined as the upper bound of the 95% confidence interval being less than 0.4% for the difference between the mean HbA1c changes for Novodra and Auralin (i.e. Novodra minus Auralin).\n",
    "\n",
    "**adverse_reactions dataset columns descriptions:**\n",
    "\n",
    "- **given_name**: first name of each patient (includes both patients treated Auralin and Novodra).\n",
    "- **surname**: last name of each patient (includes both patients treated Auralin and Novodra).\n",
    "- **adverse_reaction**: the adverse reaction reported by the patient.\n",
    "\n",
    "<h4><center>Note: This data isn't real</center></h1>\n",
    " "
   ]
  },
  {
   "cell_type": "markdown",
   "metadata": {},
   "source": [
    "\n",
    "## **Main question:**\n",
    "\n",
    "\n",
    ">**-  Should we keep using Novodra for diabetes treatment or produce Auralin as new diabetes medicine?**"
   ]
  },
  {
   "cell_type": "markdown",
   "metadata": {},
   "source": [
    "### importing libraries that will be used to investigate Dataset"
   ]
  },
  {
   "cell_type": "code",
   "execution_count": 1,
   "metadata": {},
   "outputs": [],
   "source": [
    "import pandas as pd \n",
    "import numpy as np\n",
    "import matplotlib.pyplot as plt\n",
    "%matplotlib inline\n",
    "import datetime"
   ]
  },
  {
   "cell_type": "markdown",
   "metadata": {},
   "source": [
    "<a id='wrangling'></a>\n",
    "## Data Wrangling\n",
    "\n",
    " **This is a three step process:**\n",
    "\n",
    "*  Gathering the data from Dataset and investegate it trying to understand more details about it. \n",
    "\n",
    "\n",
    "*  Assessing data to identify any issues with data types, structure, or quality.\n",
    "\n",
    "\n",
    "*  Cleaning data by changing data types, replacing values, removing unnecessary data and modifying Dataset for easy and fast analysis.\n"
   ]
  },
  {
   "cell_type": "markdown",
   "metadata": {},
   "source": [
    "### Gathering Data"
   ]
  },
  {
   "cell_type": "code",
   "execution_count": 2,
   "metadata": {},
   "outputs": [],
   "source": [
    "# loading CSV files in to 3 Dataframes  //patients, treatments and adverse reaction//\n",
    "\n",
    "patients = pd.read_csv(\"patients.csv\")\n",
    "treatments = pd.read_csv(\"treatments.csv\")\n",
    "adverse_reactions = pd.read_csv(\"adverse_reactions.csv\")"
   ]
  },
  {
   "cell_type": "code",
   "execution_count": 3,
   "metadata": {},
   "outputs": [
    {
     "data": {
      "text/html": [
       "<div>\n",
       "<style scoped>\n",
       "    .dataframe tbody tr th:only-of-type {\n",
       "        vertical-align: middle;\n",
       "    }\n",
       "\n",
       "    .dataframe tbody tr th {\n",
       "        vertical-align: top;\n",
       "    }\n",
       "\n",
       "    .dataframe thead th {\n",
       "        text-align: right;\n",
       "    }\n",
       "</style>\n",
       "<table border=\"1\" class=\"dataframe\">\n",
       "  <thead>\n",
       "    <tr style=\"text-align: right;\">\n",
       "      <th></th>\n",
       "      <th>patient_id</th>\n",
       "      <th>assigned_sex</th>\n",
       "      <th>given_name</th>\n",
       "      <th>surname</th>\n",
       "      <th>address</th>\n",
       "      <th>city</th>\n",
       "      <th>state</th>\n",
       "      <th>zip_code</th>\n",
       "      <th>country</th>\n",
       "      <th>contact</th>\n",
       "      <th>birthdate</th>\n",
       "      <th>weight</th>\n",
       "      <th>height</th>\n",
       "      <th>bmi</th>\n",
       "    </tr>\n",
       "  </thead>\n",
       "  <tbody>\n",
       "    <tr>\n",
       "      <th>486</th>\n",
       "      <td>487</td>\n",
       "      <td>male</td>\n",
       "      <td>Samuel</td>\n",
       "      <td>Blix</td>\n",
       "      <td>3488 Clair Street</td>\n",
       "      <td>Waco</td>\n",
       "      <td>TX</td>\n",
       "      <td>76706.0</td>\n",
       "      <td>United States</td>\n",
       "      <td>254-681-4504SamuelBlix@dayrep.com</td>\n",
       "      <td>7/6/1983</td>\n",
       "      <td>211.4</td>\n",
       "      <td>74</td>\n",
       "      <td>27.1</td>\n",
       "    </tr>\n",
       "    <tr>\n",
       "      <th>187</th>\n",
       "      <td>188</td>\n",
       "      <td>male</td>\n",
       "      <td>Władysław</td>\n",
       "      <td>Wieczorek</td>\n",
       "      <td>2338 Virginia Street</td>\n",
       "      <td>Chicago</td>\n",
       "      <td>IL</td>\n",
       "      <td>60605.0</td>\n",
       "      <td>United States</td>\n",
       "      <td>773-607-2647WladyslawWieczorek@teleworm.us</td>\n",
       "      <td>1/15/1994</td>\n",
       "      <td>133.1</td>\n",
       "      <td>67</td>\n",
       "      <td>20.8</td>\n",
       "    </tr>\n",
       "    <tr>\n",
       "      <th>440</th>\n",
       "      <td>441</td>\n",
       "      <td>male</td>\n",
       "      <td>David</td>\n",
       "      <td>Villadsen</td>\n",
       "      <td>1434 Oak Ridge Drive</td>\n",
       "      <td>St Elizabeth</td>\n",
       "      <td>MO</td>\n",
       "      <td>65559.0</td>\n",
       "      <td>United States</td>\n",
       "      <td>DavidMVilladsen@armyspy.com+1 (573) 493-4748</td>\n",
       "      <td>11/30/1924</td>\n",
       "      <td>137.3</td>\n",
       "      <td>68</td>\n",
       "      <td>20.9</td>\n",
       "    </tr>\n",
       "    <tr>\n",
       "      <th>12</th>\n",
       "      <td>13</td>\n",
       "      <td>male</td>\n",
       "      <td>Omeokachie</td>\n",
       "      <td>Ibeamaka</td>\n",
       "      <td>2544 Worley Avenue</td>\n",
       "      <td>Lynchburg</td>\n",
       "      <td>VA</td>\n",
       "      <td>24504.0</td>\n",
       "      <td>United States</td>\n",
       "      <td>OmeokachieIbeamaka@einrot.com434-509-2614</td>\n",
       "      <td>8/5/1957</td>\n",
       "      <td>224.2</td>\n",
       "      <td>69</td>\n",
       "      <td>33.1</td>\n",
       "    </tr>\n",
       "    <tr>\n",
       "      <th>183</th>\n",
       "      <td>184</td>\n",
       "      <td>male</td>\n",
       "      <td>Suhaim</td>\n",
       "      <td>Rahal</td>\n",
       "      <td>2270 Bel Meadow Drive</td>\n",
       "      <td>Fontana</td>\n",
       "      <td>California</td>\n",
       "      <td>92335.0</td>\n",
       "      <td>United States</td>\n",
       "      <td>909-355-9418SuhaimAbdelRahal@fleckens.hu</td>\n",
       "      <td>2/8/1944</td>\n",
       "      <td>207.7</td>\n",
       "      <td>71</td>\n",
       "      <td>29.0</td>\n",
       "    </tr>\n",
       "  </tbody>\n",
       "</table>\n",
       "</div>"
      ],
      "text/plain": [
       "     patient_id assigned_sex  given_name    surname                address  \\\n",
       "486         487         male      Samuel       Blix      3488 Clair Street   \n",
       "187         188         male   Władysław  Wieczorek   2338 Virginia Street   \n",
       "440         441         male       David  Villadsen   1434 Oak Ridge Drive   \n",
       "12           13         male  Omeokachie   Ibeamaka     2544 Worley Avenue   \n",
       "183         184         male      Suhaim      Rahal  2270 Bel Meadow Drive   \n",
       "\n",
       "             city       state  zip_code        country  \\\n",
       "486          Waco          TX   76706.0  United States   \n",
       "187       Chicago          IL   60605.0  United States   \n",
       "440  St Elizabeth          MO   65559.0  United States   \n",
       "12      Lynchburg          VA   24504.0  United States   \n",
       "183       Fontana  California   92335.0  United States   \n",
       "\n",
       "                                          contact   birthdate  weight  height  \\\n",
       "486             254-681-4504SamuelBlix@dayrep.com    7/6/1983   211.4      74   \n",
       "187    773-607-2647WladyslawWieczorek@teleworm.us   1/15/1994   133.1      67   \n",
       "440  DavidMVilladsen@armyspy.com+1 (573) 493-4748  11/30/1924   137.3      68   \n",
       "12      OmeokachieIbeamaka@einrot.com434-509-2614    8/5/1957   224.2      69   \n",
       "183      909-355-9418SuhaimAbdelRahal@fleckens.hu    2/8/1944   207.7      71   \n",
       "\n",
       "      bmi  \n",
       "486  27.1  \n",
       "187  20.8  \n",
       "440  20.9  \n",
       "12   33.1  \n",
       "183  29.0  "
      ]
     },
     "execution_count": 3,
     "metadata": {},
     "output_type": "execute_result"
    }
   ],
   "source": [
    "#checking 5 rows sample from Dataframes\n",
    "\n",
    "patients.sample(5)"
   ]
  },
  {
   "cell_type": "code",
   "execution_count": 4,
   "metadata": {},
   "outputs": [
    {
     "data": {
      "text/html": [
       "<div>\n",
       "<style scoped>\n",
       "    .dataframe tbody tr th:only-of-type {\n",
       "        vertical-align: middle;\n",
       "    }\n",
       "\n",
       "    .dataframe tbody tr th {\n",
       "        vertical-align: top;\n",
       "    }\n",
       "\n",
       "    .dataframe thead th {\n",
       "        text-align: right;\n",
       "    }\n",
       "</style>\n",
       "<table border=\"1\" class=\"dataframe\">\n",
       "  <thead>\n",
       "    <tr style=\"text-align: right;\">\n",
       "      <th></th>\n",
       "      <th>given_name</th>\n",
       "      <th>surname</th>\n",
       "      <th>auralin</th>\n",
       "      <th>novodra</th>\n",
       "      <th>hba1c_start</th>\n",
       "      <th>hba1c_end</th>\n",
       "      <th>hba1c_change</th>\n",
       "    </tr>\n",
       "  </thead>\n",
       "  <tbody>\n",
       "    <tr>\n",
       "      <th>279</th>\n",
       "      <td>samúel</td>\n",
       "      <td>guðbrandsson</td>\n",
       "      <td>53u - 56u</td>\n",
       "      <td>-</td>\n",
       "      <td>8.00</td>\n",
       "      <td>7.64</td>\n",
       "      <td>0.36</td>\n",
       "    </tr>\n",
       "    <tr>\n",
       "      <th>152</th>\n",
       "      <td>lewis</td>\n",
       "      <td>webb</td>\n",
       "      <td>39u - 44u</td>\n",
       "      <td>-</td>\n",
       "      <td>7.85</td>\n",
       "      <td>7.52</td>\n",
       "      <td>0.33</td>\n",
       "    </tr>\n",
       "    <tr>\n",
       "      <th>163</th>\n",
       "      <td>malik</td>\n",
       "      <td>vaneker</td>\n",
       "      <td>44u - 54u</td>\n",
       "      <td>-</td>\n",
       "      <td>7.55</td>\n",
       "      <td>7.12</td>\n",
       "      <td>NaN</td>\n",
       "    </tr>\n",
       "    <tr>\n",
       "      <th>173</th>\n",
       "      <td>gabriele</td>\n",
       "      <td>saenger</td>\n",
       "      <td>22u - 30u</td>\n",
       "      <td>-</td>\n",
       "      <td>8.35</td>\n",
       "      <td>7.97</td>\n",
       "      <td>0.38</td>\n",
       "    </tr>\n",
       "    <tr>\n",
       "      <th>249</th>\n",
       "      <td>kang</td>\n",
       "      <td>mai</td>\n",
       "      <td>-</td>\n",
       "      <td>39u - 36u</td>\n",
       "      <td>7.78</td>\n",
       "      <td>7.45</td>\n",
       "      <td>0.33</td>\n",
       "    </tr>\n",
       "  </tbody>\n",
       "</table>\n",
       "</div>"
      ],
      "text/plain": [
       "    given_name       surname    auralin    novodra  hba1c_start  hba1c_end  \\\n",
       "279     samúel  guðbrandsson  53u - 56u          -         8.00       7.64   \n",
       "152      lewis          webb  39u - 44u          -         7.85       7.52   \n",
       "163      malik       vaneker  44u - 54u          -         7.55       7.12   \n",
       "173   gabriele       saenger  22u - 30u          -         8.35       7.97   \n",
       "249       kang           mai          -  39u - 36u         7.78       7.45   \n",
       "\n",
       "     hba1c_change  \n",
       "279          0.36  \n",
       "152          0.33  \n",
       "163           NaN  \n",
       "173          0.38  \n",
       "249          0.33  "
      ]
     },
     "execution_count": 4,
     "metadata": {},
     "output_type": "execute_result"
    }
   ],
   "source": [
    "treatments.sample(5)"
   ]
  },
  {
   "cell_type": "code",
   "execution_count": 5,
   "metadata": {},
   "outputs": [
    {
     "data": {
      "text/html": [
       "<div>\n",
       "<style scoped>\n",
       "    .dataframe tbody tr th:only-of-type {\n",
       "        vertical-align: middle;\n",
       "    }\n",
       "\n",
       "    .dataframe tbody tr th {\n",
       "        vertical-align: top;\n",
       "    }\n",
       "\n",
       "    .dataframe thead th {\n",
       "        text-align: right;\n",
       "    }\n",
       "</style>\n",
       "<table border=\"1\" class=\"dataframe\">\n",
       "  <thead>\n",
       "    <tr style=\"text-align: right;\">\n",
       "      <th></th>\n",
       "      <th>given_name</th>\n",
       "      <th>surname</th>\n",
       "      <th>adverse_reaction</th>\n",
       "    </tr>\n",
       "  </thead>\n",
       "  <tbody>\n",
       "    <tr>\n",
       "      <th>7</th>\n",
       "      <td>albinca</td>\n",
       "      <td>komavec</td>\n",
       "      <td>hypoglycemia</td>\n",
       "    </tr>\n",
       "    <tr>\n",
       "      <th>9</th>\n",
       "      <td>sofia</td>\n",
       "      <td>hermansen</td>\n",
       "      <td>injection site discomfort</td>\n",
       "    </tr>\n",
       "    <tr>\n",
       "      <th>14</th>\n",
       "      <td>gabriele</td>\n",
       "      <td>saenger</td>\n",
       "      <td>hypoglycemia</td>\n",
       "    </tr>\n",
       "    <tr>\n",
       "      <th>4</th>\n",
       "      <td>manouck</td>\n",
       "      <td>wubbels</td>\n",
       "      <td>throat irritation</td>\n",
       "    </tr>\n",
       "    <tr>\n",
       "      <th>22</th>\n",
       "      <td>lixue</td>\n",
       "      <td>hsueh</td>\n",
       "      <td>injection site discomfort</td>\n",
       "    </tr>\n",
       "  </tbody>\n",
       "</table>\n",
       "</div>"
      ],
      "text/plain": [
       "   given_name    surname           adverse_reaction\n",
       "7     albinca    komavec               hypoglycemia\n",
       "9       sofia  hermansen  injection site discomfort\n",
       "14   gabriele    saenger               hypoglycemia\n",
       "4     manouck    wubbels          throat irritation\n",
       "22      lixue      hsueh  injection site discomfort"
      ]
     },
     "execution_count": 5,
     "metadata": {},
     "output_type": "execute_result"
    }
   ],
   "source": [
    "adverse_reactions.sample(5)"
   ]
  },
  {
   "cell_type": "markdown",
   "metadata": {},
   "source": [
    "### Assessing Data"
   ]
  },
  {
   "cell_type": "code",
   "execution_count": 6,
   "metadata": {},
   "outputs": [
    {
     "name": "stdout",
     "output_type": "stream",
     "text": [
      "<class 'pandas.core.frame.DataFrame'>\n",
      "RangeIndex: 503 entries, 0 to 502\n",
      "Data columns (total 14 columns):\n",
      " #   Column        Non-Null Count  Dtype  \n",
      "---  ------        --------------  -----  \n",
      " 0   patient_id    503 non-null    int64  \n",
      " 1   assigned_sex  503 non-null    object \n",
      " 2   given_name    503 non-null    object \n",
      " 3   surname       503 non-null    object \n",
      " 4   address       491 non-null    object \n",
      " 5   city          491 non-null    object \n",
      " 6   state         491 non-null    object \n",
      " 7   zip_code      491 non-null    float64\n",
      " 8   country       491 non-null    object \n",
      " 9   contact       491 non-null    object \n",
      " 10  birthdate     503 non-null    object \n",
      " 11  weight        503 non-null    float64\n",
      " 12  height        503 non-null    int64  \n",
      " 13  bmi           503 non-null    float64\n",
      "dtypes: float64(3), int64(2), object(9)\n",
      "memory usage: 55.1+ KB\n"
     ]
    }
   ],
   "source": [
    "#checking Dataframes basic informations (columns names, number of values, data types ......)\n",
    "\n",
    "patients.info()"
   ]
  },
  {
   "cell_type": "code",
   "execution_count": 7,
   "metadata": {},
   "outputs": [
    {
     "name": "stdout",
     "output_type": "stream",
     "text": [
      "<class 'pandas.core.frame.DataFrame'>\n",
      "RangeIndex: 280 entries, 0 to 279\n",
      "Data columns (total 7 columns):\n",
      " #   Column        Non-Null Count  Dtype  \n",
      "---  ------        --------------  -----  \n",
      " 0   given_name    280 non-null    object \n",
      " 1   surname       280 non-null    object \n",
      " 2   auralin       280 non-null    object \n",
      " 3   novodra       280 non-null    object \n",
      " 4   hba1c_start   280 non-null    float64\n",
      " 5   hba1c_end     280 non-null    float64\n",
      " 6   hba1c_change  171 non-null    float64\n",
      "dtypes: float64(3), object(4)\n",
      "memory usage: 15.4+ KB\n"
     ]
    }
   ],
   "source": [
    "treatments.info()"
   ]
  },
  {
   "cell_type": "code",
   "execution_count": 8,
   "metadata": {},
   "outputs": [
    {
     "name": "stdout",
     "output_type": "stream",
     "text": [
      "<class 'pandas.core.frame.DataFrame'>\n",
      "RangeIndex: 34 entries, 0 to 33\n",
      "Data columns (total 3 columns):\n",
      " #   Column            Non-Null Count  Dtype \n",
      "---  ------            --------------  ----- \n",
      " 0   given_name        34 non-null     object\n",
      " 1   surname           34 non-null     object\n",
      " 2   adverse_reaction  34 non-null     object\n",
      "dtypes: object(3)\n",
      "memory usage: 944.0+ bytes\n"
     ]
    }
   ],
   "source": [
    "adverse_reactions.info()"
   ]
  },
  {
   "cell_type": "code",
   "execution_count": 9,
   "metadata": {},
   "outputs": [
    {
     "data": {
      "text/plain": [
       "(503, 14)"
      ]
     },
     "execution_count": 9,
     "metadata": {},
     "output_type": "execute_result"
    }
   ],
   "source": [
    "#checking Dataframes shape (number of rows and columns)\n",
    "\n",
    "patients.shape"
   ]
  },
  {
   "cell_type": "code",
   "execution_count": 10,
   "metadata": {},
   "outputs": [
    {
     "data": {
      "text/plain": [
       "(280, 7)"
      ]
     },
     "execution_count": 10,
     "metadata": {},
     "output_type": "execute_result"
    }
   ],
   "source": [
    "treatments.shape"
   ]
  },
  {
   "cell_type": "code",
   "execution_count": 11,
   "metadata": {},
   "outputs": [
    {
     "data": {
      "text/plain": [
       "(34, 3)"
      ]
     },
     "execution_count": 11,
     "metadata": {},
     "output_type": "execute_result"
    }
   ],
   "source": [
    "adverse_reactions.shape"
   ]
  },
  {
   "cell_type": "code",
   "execution_count": 12,
   "metadata": {},
   "outputs": [
    {
     "data": {
      "text/html": [
       "<div>\n",
       "<style scoped>\n",
       "    .dataframe tbody tr th:only-of-type {\n",
       "        vertical-align: middle;\n",
       "    }\n",
       "\n",
       "    .dataframe tbody tr th {\n",
       "        vertical-align: top;\n",
       "    }\n",
       "\n",
       "    .dataframe thead th {\n",
       "        text-align: right;\n",
       "    }\n",
       "</style>\n",
       "<table border=\"1\" class=\"dataframe\">\n",
       "  <thead>\n",
       "    <tr style=\"text-align: right;\">\n",
       "      <th></th>\n",
       "      <th>patient_id</th>\n",
       "      <th>zip_code</th>\n",
       "      <th>weight</th>\n",
       "      <th>height</th>\n",
       "      <th>bmi</th>\n",
       "    </tr>\n",
       "  </thead>\n",
       "  <tbody>\n",
       "    <tr>\n",
       "      <th>count</th>\n",
       "      <td>503.000000</td>\n",
       "      <td>491.000000</td>\n",
       "      <td>503.000000</td>\n",
       "      <td>503.000000</td>\n",
       "      <td>503.000000</td>\n",
       "    </tr>\n",
       "    <tr>\n",
       "      <th>mean</th>\n",
       "      <td>252.000000</td>\n",
       "      <td>49084.118126</td>\n",
       "      <td>173.434990</td>\n",
       "      <td>66.634195</td>\n",
       "      <td>27.483897</td>\n",
       "    </tr>\n",
       "    <tr>\n",
       "      <th>std</th>\n",
       "      <td>145.347859</td>\n",
       "      <td>30265.807442</td>\n",
       "      <td>33.916741</td>\n",
       "      <td>4.411297</td>\n",
       "      <td>5.276438</td>\n",
       "    </tr>\n",
       "    <tr>\n",
       "      <th>min</th>\n",
       "      <td>1.000000</td>\n",
       "      <td>1002.000000</td>\n",
       "      <td>48.800000</td>\n",
       "      <td>27.000000</td>\n",
       "      <td>17.100000</td>\n",
       "    </tr>\n",
       "    <tr>\n",
       "      <th>25%</th>\n",
       "      <td>126.500000</td>\n",
       "      <td>21920.500000</td>\n",
       "      <td>149.300000</td>\n",
       "      <td>63.000000</td>\n",
       "      <td>23.300000</td>\n",
       "    </tr>\n",
       "    <tr>\n",
       "      <th>50%</th>\n",
       "      <td>252.000000</td>\n",
       "      <td>48057.000000</td>\n",
       "      <td>175.300000</td>\n",
       "      <td>67.000000</td>\n",
       "      <td>27.200000</td>\n",
       "    </tr>\n",
       "    <tr>\n",
       "      <th>75%</th>\n",
       "      <td>377.500000</td>\n",
       "      <td>75679.000000</td>\n",
       "      <td>199.500000</td>\n",
       "      <td>70.000000</td>\n",
       "      <td>31.750000</td>\n",
       "    </tr>\n",
       "    <tr>\n",
       "      <th>max</th>\n",
       "      <td>503.000000</td>\n",
       "      <td>99701.000000</td>\n",
       "      <td>255.900000</td>\n",
       "      <td>79.000000</td>\n",
       "      <td>37.700000</td>\n",
       "    </tr>\n",
       "  </tbody>\n",
       "</table>\n",
       "</div>"
      ],
      "text/plain": [
       "       patient_id      zip_code      weight      height         bmi\n",
       "count  503.000000    491.000000  503.000000  503.000000  503.000000\n",
       "mean   252.000000  49084.118126  173.434990   66.634195   27.483897\n",
       "std    145.347859  30265.807442   33.916741    4.411297    5.276438\n",
       "min      1.000000   1002.000000   48.800000   27.000000   17.100000\n",
       "25%    126.500000  21920.500000  149.300000   63.000000   23.300000\n",
       "50%    252.000000  48057.000000  175.300000   67.000000   27.200000\n",
       "75%    377.500000  75679.000000  199.500000   70.000000   31.750000\n",
       "max    503.000000  99701.000000  255.900000   79.000000   37.700000"
      ]
     },
     "execution_count": 12,
     "metadata": {},
     "output_type": "execute_result"
    }
   ],
   "source": [
    "#checking more information and descriptive statistics\n",
    "\n",
    "patients.describe()"
   ]
  },
  {
   "cell_type": "code",
   "execution_count": 13,
   "metadata": {},
   "outputs": [
    {
     "data": {
      "text/html": [
       "<div>\n",
       "<style scoped>\n",
       "    .dataframe tbody tr th:only-of-type {\n",
       "        vertical-align: middle;\n",
       "    }\n",
       "\n",
       "    .dataframe tbody tr th {\n",
       "        vertical-align: top;\n",
       "    }\n",
       "\n",
       "    .dataframe thead th {\n",
       "        text-align: right;\n",
       "    }\n",
       "</style>\n",
       "<table border=\"1\" class=\"dataframe\">\n",
       "  <thead>\n",
       "    <tr style=\"text-align: right;\">\n",
       "      <th></th>\n",
       "      <th>hba1c_start</th>\n",
       "      <th>hba1c_end</th>\n",
       "      <th>hba1c_change</th>\n",
       "    </tr>\n",
       "  </thead>\n",
       "  <tbody>\n",
       "    <tr>\n",
       "      <th>count</th>\n",
       "      <td>280.000000</td>\n",
       "      <td>280.000000</td>\n",
       "      <td>171.000000</td>\n",
       "    </tr>\n",
       "    <tr>\n",
       "      <th>mean</th>\n",
       "      <td>7.985929</td>\n",
       "      <td>7.589286</td>\n",
       "      <td>0.546023</td>\n",
       "    </tr>\n",
       "    <tr>\n",
       "      <th>std</th>\n",
       "      <td>0.568638</td>\n",
       "      <td>0.569672</td>\n",
       "      <td>0.279555</td>\n",
       "    </tr>\n",
       "    <tr>\n",
       "      <th>min</th>\n",
       "      <td>7.500000</td>\n",
       "      <td>7.010000</td>\n",
       "      <td>0.200000</td>\n",
       "    </tr>\n",
       "    <tr>\n",
       "      <th>25%</th>\n",
       "      <td>7.660000</td>\n",
       "      <td>7.270000</td>\n",
       "      <td>0.340000</td>\n",
       "    </tr>\n",
       "    <tr>\n",
       "      <th>50%</th>\n",
       "      <td>7.800000</td>\n",
       "      <td>7.420000</td>\n",
       "      <td>0.380000</td>\n",
       "    </tr>\n",
       "    <tr>\n",
       "      <th>75%</th>\n",
       "      <td>7.970000</td>\n",
       "      <td>7.570000</td>\n",
       "      <td>0.920000</td>\n",
       "    </tr>\n",
       "    <tr>\n",
       "      <th>max</th>\n",
       "      <td>9.950000</td>\n",
       "      <td>9.580000</td>\n",
       "      <td>0.990000</td>\n",
       "    </tr>\n",
       "  </tbody>\n",
       "</table>\n",
       "</div>"
      ],
      "text/plain": [
       "       hba1c_start   hba1c_end  hba1c_change\n",
       "count   280.000000  280.000000    171.000000\n",
       "mean      7.985929    7.589286      0.546023\n",
       "std       0.568638    0.569672      0.279555\n",
       "min       7.500000    7.010000      0.200000\n",
       "25%       7.660000    7.270000      0.340000\n",
       "50%       7.800000    7.420000      0.380000\n",
       "75%       7.970000    7.570000      0.920000\n",
       "max       9.950000    9.580000      0.990000"
      ]
     },
     "execution_count": 13,
     "metadata": {},
     "output_type": "execute_result"
    }
   ],
   "source": [
    "treatments.describe()"
   ]
  },
  {
   "cell_type": "code",
   "execution_count": 14,
   "metadata": {},
   "outputs": [
    {
     "data": {
      "text/html": [
       "<div>\n",
       "<style scoped>\n",
       "    .dataframe tbody tr th:only-of-type {\n",
       "        vertical-align: middle;\n",
       "    }\n",
       "\n",
       "    .dataframe tbody tr th {\n",
       "        vertical-align: top;\n",
       "    }\n",
       "\n",
       "    .dataframe thead th {\n",
       "        text-align: right;\n",
       "    }\n",
       "</style>\n",
       "<table border=\"1\" class=\"dataframe\">\n",
       "  <thead>\n",
       "    <tr style=\"text-align: right;\">\n",
       "      <th></th>\n",
       "      <th>given_name</th>\n",
       "      <th>surname</th>\n",
       "      <th>adverse_reaction</th>\n",
       "    </tr>\n",
       "  </thead>\n",
       "  <tbody>\n",
       "    <tr>\n",
       "      <th>count</th>\n",
       "      <td>34</td>\n",
       "      <td>34</td>\n",
       "      <td>34</td>\n",
       "    </tr>\n",
       "    <tr>\n",
       "      <th>unique</th>\n",
       "      <td>34</td>\n",
       "      <td>33</td>\n",
       "      <td>6</td>\n",
       "    </tr>\n",
       "    <tr>\n",
       "      <th>top</th>\n",
       "      <td>berta</td>\n",
       "      <td>johnson</td>\n",
       "      <td>hypoglycemia</td>\n",
       "    </tr>\n",
       "    <tr>\n",
       "      <th>freq</th>\n",
       "      <td>1</td>\n",
       "      <td>2</td>\n",
       "      <td>19</td>\n",
       "    </tr>\n",
       "  </tbody>\n",
       "</table>\n",
       "</div>"
      ],
      "text/plain": [
       "       given_name  surname adverse_reaction\n",
       "count          34       34               34\n",
       "unique         34       33                6\n",
       "top         berta  johnson     hypoglycemia\n",
       "freq            1        2               19"
      ]
     },
     "execution_count": 14,
     "metadata": {},
     "output_type": "execute_result"
    }
   ],
   "source": [
    "adverse_reactions.describe()"
   ]
  },
  {
   "cell_type": "code",
   "execution_count": 15,
   "metadata": {},
   "outputs": [
    {
     "data": {
      "text/plain": [
       "patient_id       0\n",
       "assigned_sex     0\n",
       "given_name       0\n",
       "surname          0\n",
       "address         12\n",
       "city            12\n",
       "state           12\n",
       "zip_code        12\n",
       "country         12\n",
       "contact         12\n",
       "birthdate        0\n",
       "weight           0\n",
       "height           0\n",
       "bmi              0\n",
       "dtype: int64"
      ]
     },
     "execution_count": 15,
     "metadata": {},
     "output_type": "execute_result"
    }
   ],
   "source": [
    "# checking for NaN values patients\n",
    "\n",
    "patients.isnull().sum()"
   ]
  },
  {
   "cell_type": "code",
   "execution_count": 16,
   "metadata": {},
   "outputs": [
    {
     "data": {
      "text/plain": [
       "given_name        0\n",
       "surname           0\n",
       "auralin           0\n",
       "novodra           0\n",
       "hba1c_start       0\n",
       "hba1c_end         0\n",
       "hba1c_change    109\n",
       "dtype: int64"
      ]
     },
     "execution_count": 16,
     "metadata": {},
     "output_type": "execute_result"
    }
   ],
   "source": [
    "treatments.isnull().sum()"
   ]
  },
  {
   "cell_type": "code",
   "execution_count": 17,
   "metadata": {},
   "outputs": [
    {
     "data": {
      "text/plain": [
       "given_name          0\n",
       "surname             0\n",
       "adverse_reaction    0\n",
       "dtype: int64"
      ]
     },
     "execution_count": 17,
     "metadata": {},
     "output_type": "execute_result"
    }
   ],
   "source": [
    "adverse_reactions.isnull().sum()"
   ]
  },
  {
   "cell_type": "code",
   "execution_count": 18,
   "metadata": {},
   "outputs": [
    {
     "data": {
      "text/plain": [
       "0"
      ]
     },
     "execution_count": 18,
     "metadata": {},
     "output_type": "execute_result"
    }
   ],
   "source": [
    "#checking for duplicated rows \n",
    "\n",
    "patients.duplicated().sum()"
   ]
  },
  {
   "cell_type": "code",
   "execution_count": 19,
   "metadata": {},
   "outputs": [
    {
     "data": {
      "text/plain": [
       "1"
      ]
     },
     "execution_count": 19,
     "metadata": {},
     "output_type": "execute_result"
    }
   ],
   "source": [
    "treatments.duplicated().sum()"
   ]
  },
  {
   "cell_type": "code",
   "execution_count": 20,
   "metadata": {},
   "outputs": [
    {
     "data": {
      "text/plain": [
       "0"
      ]
     },
     "execution_count": 20,
     "metadata": {},
     "output_type": "execute_result"
    }
   ],
   "source": [
    "adverse_reactions.duplicated().sum()"
   ]
  },
  {
   "cell_type": "code",
   "execution_count": 21,
   "metadata": {},
   "outputs": [
    {
     "data": {
      "text/html": [
       "<div>\n",
       "<style scoped>\n",
       "    .dataframe tbody tr th:only-of-type {\n",
       "        vertical-align: middle;\n",
       "    }\n",
       "\n",
       "    .dataframe tbody tr th {\n",
       "        vertical-align: top;\n",
       "    }\n",
       "\n",
       "    .dataframe thead th {\n",
       "        text-align: right;\n",
       "    }\n",
       "</style>\n",
       "<table border=\"1\" class=\"dataframe\">\n",
       "  <thead>\n",
       "    <tr style=\"text-align: right;\">\n",
       "      <th></th>\n",
       "      <th>patient_id</th>\n",
       "      <th>assigned_sex</th>\n",
       "      <th>given_name</th>\n",
       "      <th>surname</th>\n",
       "      <th>address</th>\n",
       "      <th>city</th>\n",
       "      <th>state</th>\n",
       "      <th>zip_code</th>\n",
       "      <th>country</th>\n",
       "      <th>contact</th>\n",
       "      <th>birthdate</th>\n",
       "      <th>weight</th>\n",
       "      <th>height</th>\n",
       "      <th>bmi</th>\n",
       "    </tr>\n",
       "  </thead>\n",
       "  <tbody>\n",
       "    <tr>\n",
       "      <th>24</th>\n",
       "      <td>25</td>\n",
       "      <td>male</td>\n",
       "      <td>Jakob</td>\n",
       "      <td>Jakobsen</td>\n",
       "      <td>648 Old Dear Lane</td>\n",
       "      <td>Port Jervis</td>\n",
       "      <td>New York</td>\n",
       "      <td>12771.0</td>\n",
       "      <td>United States</td>\n",
       "      <td>JakobCJakobsen@einrot.com+1 (845) 858-7707</td>\n",
       "      <td>8/1/1985</td>\n",
       "      <td>155.8</td>\n",
       "      <td>67</td>\n",
       "      <td>24.4</td>\n",
       "    </tr>\n",
       "    <tr>\n",
       "      <th>29</th>\n",
       "      <td>30</td>\n",
       "      <td>male</td>\n",
       "      <td>Jake</td>\n",
       "      <td>Jakobsen</td>\n",
       "      <td>648 Old Dear Lane</td>\n",
       "      <td>Port Jervis</td>\n",
       "      <td>New York</td>\n",
       "      <td>12771.0</td>\n",
       "      <td>United States</td>\n",
       "      <td>JakobCJakobsen@einrot.com+1 (845) 858-7707</td>\n",
       "      <td>8/1/1985</td>\n",
       "      <td>155.8</td>\n",
       "      <td>67</td>\n",
       "      <td>24.4</td>\n",
       "    </tr>\n",
       "    <tr>\n",
       "      <th>97</th>\n",
       "      <td>98</td>\n",
       "      <td>male</td>\n",
       "      <td>Patrick</td>\n",
       "      <td>Gersten</td>\n",
       "      <td>2778 North Avenue</td>\n",
       "      <td>Burr</td>\n",
       "      <td>NE</td>\n",
       "      <td>68324.0</td>\n",
       "      <td>United States</td>\n",
       "      <td>PatrickGersten@rhyta.com402-848-4923</td>\n",
       "      <td>5/3/1954</td>\n",
       "      <td>138.2</td>\n",
       "      <td>71</td>\n",
       "      <td>19.3</td>\n",
       "    </tr>\n",
       "    <tr>\n",
       "      <th>131</th>\n",
       "      <td>132</td>\n",
       "      <td>female</td>\n",
       "      <td>Sandra</td>\n",
       "      <td>Taylor</td>\n",
       "      <td>2476 Fulton Street</td>\n",
       "      <td>Rainelle</td>\n",
       "      <td>WV</td>\n",
       "      <td>25962.0</td>\n",
       "      <td>United States</td>\n",
       "      <td>304-438-2648SandraCTaylor@dayrep.com</td>\n",
       "      <td>10/23/1960</td>\n",
       "      <td>206.1</td>\n",
       "      <td>64</td>\n",
       "      <td>35.4</td>\n",
       "    </tr>\n",
       "    <tr>\n",
       "      <th>215</th>\n",
       "      <td>216</td>\n",
       "      <td>male</td>\n",
       "      <td>John</td>\n",
       "      <td>Doe</td>\n",
       "      <td>123 Main Street</td>\n",
       "      <td>New York</td>\n",
       "      <td>NY</td>\n",
       "      <td>12345.0</td>\n",
       "      <td>United States</td>\n",
       "      <td>johndoe@email.com1234567890</td>\n",
       "      <td>1/1/1975</td>\n",
       "      <td>180.0</td>\n",
       "      <td>72</td>\n",
       "      <td>24.4</td>\n",
       "    </tr>\n",
       "    <tr>\n",
       "      <th>229</th>\n",
       "      <td>230</td>\n",
       "      <td>male</td>\n",
       "      <td>John</td>\n",
       "      <td>Doe</td>\n",
       "      <td>123 Main Street</td>\n",
       "      <td>New York</td>\n",
       "      <td>NY</td>\n",
       "      <td>12345.0</td>\n",
       "      <td>United States</td>\n",
       "      <td>johndoe@email.com1234567890</td>\n",
       "      <td>1/1/1975</td>\n",
       "      <td>180.0</td>\n",
       "      <td>72</td>\n",
       "      <td>24.4</td>\n",
       "    </tr>\n",
       "    <tr>\n",
       "      <th>237</th>\n",
       "      <td>238</td>\n",
       "      <td>male</td>\n",
       "      <td>John</td>\n",
       "      <td>Doe</td>\n",
       "      <td>123 Main Street</td>\n",
       "      <td>New York</td>\n",
       "      <td>NY</td>\n",
       "      <td>12345.0</td>\n",
       "      <td>United States</td>\n",
       "      <td>johndoe@email.com1234567890</td>\n",
       "      <td>1/1/1975</td>\n",
       "      <td>180.0</td>\n",
       "      <td>72</td>\n",
       "      <td>24.4</td>\n",
       "    </tr>\n",
       "    <tr>\n",
       "      <th>244</th>\n",
       "      <td>245</td>\n",
       "      <td>male</td>\n",
       "      <td>John</td>\n",
       "      <td>Doe</td>\n",
       "      <td>123 Main Street</td>\n",
       "      <td>New York</td>\n",
       "      <td>NY</td>\n",
       "      <td>12345.0</td>\n",
       "      <td>United States</td>\n",
       "      <td>johndoe@email.com1234567890</td>\n",
       "      <td>1/1/1975</td>\n",
       "      <td>180.0</td>\n",
       "      <td>72</td>\n",
       "      <td>24.4</td>\n",
       "    </tr>\n",
       "    <tr>\n",
       "      <th>251</th>\n",
       "      <td>252</td>\n",
       "      <td>male</td>\n",
       "      <td>John</td>\n",
       "      <td>Doe</td>\n",
       "      <td>123 Main Street</td>\n",
       "      <td>New York</td>\n",
       "      <td>NY</td>\n",
       "      <td>12345.0</td>\n",
       "      <td>United States</td>\n",
       "      <td>johndoe@email.com1234567890</td>\n",
       "      <td>1/1/1975</td>\n",
       "      <td>180.0</td>\n",
       "      <td>72</td>\n",
       "      <td>24.4</td>\n",
       "    </tr>\n",
       "    <tr>\n",
       "      <th>277</th>\n",
       "      <td>278</td>\n",
       "      <td>male</td>\n",
       "      <td>John</td>\n",
       "      <td>Doe</td>\n",
       "      <td>123 Main Street</td>\n",
       "      <td>New York</td>\n",
       "      <td>NY</td>\n",
       "      <td>12345.0</td>\n",
       "      <td>United States</td>\n",
       "      <td>johndoe@email.com1234567890</td>\n",
       "      <td>1/1/1975</td>\n",
       "      <td>180.0</td>\n",
       "      <td>72</td>\n",
       "      <td>24.4</td>\n",
       "    </tr>\n",
       "    <tr>\n",
       "      <th>282</th>\n",
       "      <td>283</td>\n",
       "      <td>female</td>\n",
       "      <td>Sandy</td>\n",
       "      <td>Taylor</td>\n",
       "      <td>2476 Fulton Street</td>\n",
       "      <td>Rainelle</td>\n",
       "      <td>WV</td>\n",
       "      <td>25962.0</td>\n",
       "      <td>United States</td>\n",
       "      <td>304-438-2648SandraCTaylor@dayrep.com</td>\n",
       "      <td>10/23/1960</td>\n",
       "      <td>206.1</td>\n",
       "      <td>64</td>\n",
       "      <td>35.4</td>\n",
       "    </tr>\n",
       "    <tr>\n",
       "      <th>502</th>\n",
       "      <td>503</td>\n",
       "      <td>male</td>\n",
       "      <td>Pat</td>\n",
       "      <td>Gersten</td>\n",
       "      <td>2778 North Avenue</td>\n",
       "      <td>Burr</td>\n",
       "      <td>Nebraska</td>\n",
       "      <td>68324.0</td>\n",
       "      <td>United States</td>\n",
       "      <td>PatrickGersten@rhyta.com402-848-4923</td>\n",
       "      <td>5/3/1954</td>\n",
       "      <td>138.2</td>\n",
       "      <td>71</td>\n",
       "      <td>19.3</td>\n",
       "    </tr>\n",
       "  </tbody>\n",
       "</table>\n",
       "</div>"
      ],
      "text/plain": [
       "     patient_id assigned_sex given_name   surname             address  \\\n",
       "24           25         male      Jakob  Jakobsen   648 Old Dear Lane   \n",
       "29           30         male       Jake  Jakobsen   648 Old Dear Lane   \n",
       "97           98         male    Patrick   Gersten   2778 North Avenue   \n",
       "131         132       female     Sandra    Taylor  2476 Fulton Street   \n",
       "215         216         male       John       Doe     123 Main Street   \n",
       "229         230         male       John       Doe     123 Main Street   \n",
       "237         238         male       John       Doe     123 Main Street   \n",
       "244         245         male       John       Doe     123 Main Street   \n",
       "251         252         male       John       Doe     123 Main Street   \n",
       "277         278         male       John       Doe     123 Main Street   \n",
       "282         283       female      Sandy    Taylor  2476 Fulton Street   \n",
       "502         503         male        Pat   Gersten   2778 North Avenue   \n",
       "\n",
       "            city     state  zip_code        country  \\\n",
       "24   Port Jervis  New York   12771.0  United States   \n",
       "29   Port Jervis  New York   12771.0  United States   \n",
       "97          Burr        NE   68324.0  United States   \n",
       "131     Rainelle        WV   25962.0  United States   \n",
       "215     New York        NY   12345.0  United States   \n",
       "229     New York        NY   12345.0  United States   \n",
       "237     New York        NY   12345.0  United States   \n",
       "244     New York        NY   12345.0  United States   \n",
       "251     New York        NY   12345.0  United States   \n",
       "277     New York        NY   12345.0  United States   \n",
       "282     Rainelle        WV   25962.0  United States   \n",
       "502         Burr  Nebraska   68324.0  United States   \n",
       "\n",
       "                                        contact   birthdate  weight  height  \\\n",
       "24   JakobCJakobsen@einrot.com+1 (845) 858-7707    8/1/1985   155.8      67   \n",
       "29   JakobCJakobsen@einrot.com+1 (845) 858-7707    8/1/1985   155.8      67   \n",
       "97         PatrickGersten@rhyta.com402-848-4923    5/3/1954   138.2      71   \n",
       "131        304-438-2648SandraCTaylor@dayrep.com  10/23/1960   206.1      64   \n",
       "215                 johndoe@email.com1234567890    1/1/1975   180.0      72   \n",
       "229                 johndoe@email.com1234567890    1/1/1975   180.0      72   \n",
       "237                 johndoe@email.com1234567890    1/1/1975   180.0      72   \n",
       "244                 johndoe@email.com1234567890    1/1/1975   180.0      72   \n",
       "251                 johndoe@email.com1234567890    1/1/1975   180.0      72   \n",
       "277                 johndoe@email.com1234567890    1/1/1975   180.0      72   \n",
       "282        304-438-2648SandraCTaylor@dayrep.com  10/23/1960   206.1      64   \n",
       "502        PatrickGersten@rhyta.com402-848-4923    5/3/1954   138.2      71   \n",
       "\n",
       "      bmi  \n",
       "24   24.4  \n",
       "29   24.4  \n",
       "97   19.3  \n",
       "131  35.4  \n",
       "215  24.4  \n",
       "229  24.4  \n",
       "237  24.4  \n",
       "244  24.4  \n",
       "251  24.4  \n",
       "277  24.4  \n",
       "282  35.4  \n",
       "502  19.3  "
      ]
     },
     "execution_count": 21,
     "metadata": {},
     "output_type": "execute_result"
    }
   ],
   "source": [
    "# checking for duplicated address \n",
    "\n",
    "patients[(patients.address.duplicated(keep=False))&(patients.address.notnull())]"
   ]
  },
  {
   "cell_type": "code",
   "execution_count": 22,
   "metadata": {},
   "outputs": [
    {
     "data": {
      "text/html": [
       "<div>\n",
       "<style scoped>\n",
       "    .dataframe tbody tr th:only-of-type {\n",
       "        vertical-align: middle;\n",
       "    }\n",
       "\n",
       "    .dataframe tbody tr th {\n",
       "        vertical-align: top;\n",
       "    }\n",
       "\n",
       "    .dataframe thead th {\n",
       "        text-align: right;\n",
       "    }\n",
       "</style>\n",
       "<table border=\"1\" class=\"dataframe\">\n",
       "  <thead>\n",
       "    <tr style=\"text-align: right;\">\n",
       "      <th></th>\n",
       "      <th>given_name</th>\n",
       "      <th>surname</th>\n",
       "      <th>auralin</th>\n",
       "      <th>novodra</th>\n",
       "      <th>hba1c_start</th>\n",
       "      <th>hba1c_end</th>\n",
       "      <th>hba1c_change</th>\n",
       "    </tr>\n",
       "  </thead>\n",
       "  <tbody>\n",
       "    <tr>\n",
       "      <th>136</th>\n",
       "      <td>joseph</td>\n",
       "      <td>day</td>\n",
       "      <td>29u - 36u</td>\n",
       "      <td>-</td>\n",
       "      <td>7.7</td>\n",
       "      <td>7.19</td>\n",
       "      <td>NaN</td>\n",
       "    </tr>\n",
       "  </tbody>\n",
       "</table>\n",
       "</div>"
      ],
      "text/plain": [
       "    given_name surname    auralin novodra  hba1c_start  hba1c_end  \\\n",
       "136     joseph     day  29u - 36u       -          7.7       7.19   \n",
       "\n",
       "     hba1c_change  \n",
       "136           NaN  "
      ]
     },
     "execution_count": 22,
     "metadata": {},
     "output_type": "execute_result"
    }
   ],
   "source": [
    "treatments[treatments.duplicated()]"
   ]
  },
  {
   "cell_type": "code",
   "execution_count": 23,
   "metadata": {},
   "outputs": [
    {
     "data": {
      "text/plain": [
       "California    36\n",
       "TX            32\n",
       "New York      25\n",
       "CA            24\n",
       "NY            22\n",
       "MA            22\n",
       "PA            18\n",
       "GA            15\n",
       "Illinois      14\n",
       "OH            14\n",
       "OK            13\n",
       "MI            13\n",
       "Florida       13\n",
       "LA            13\n",
       "NJ            12\n",
       "VA            11\n",
       "MS            10\n",
       "WI            10\n",
       "IL            10\n",
       "IN             9\n",
       "MN             9\n",
       "FL             9\n",
       "AL             9\n",
       "TN             9\n",
       "WA             8\n",
       "NC             8\n",
       "KY             8\n",
       "MO             7\n",
       "ID             6\n",
       "NV             6\n",
       "KS             6\n",
       "SC             5\n",
       "IA             5\n",
       "CT             5\n",
       "ME             4\n",
       "RI             4\n",
       "Nebraska       4\n",
       "ND             4\n",
       "CO             4\n",
       "AZ             4\n",
       "AR             4\n",
       "MD             3\n",
       "DE             3\n",
       "WV             3\n",
       "SD             3\n",
       "OR             3\n",
       "NE             2\n",
       "MT             2\n",
       "VT             2\n",
       "DC             2\n",
       "AK             1\n",
       "WY             1\n",
       "NH             1\n",
       "NM             1\n",
       "Name: state, dtype: int64"
      ]
     },
     "execution_count": 23,
     "metadata": {},
     "output_type": "execute_result"
    }
   ],
   "source": [
    "#checking state values \n",
    "\n",
    "patients.state.value_counts()"
   ]
  },
  {
   "cell_type": "code",
   "execution_count": 24,
   "metadata": {},
   "outputs": [
    {
     "data": {
      "text/plain": [
       "4    71.969262\n",
       "dtype: float64"
      ]
     },
     "execution_count": 24,
     "metadata": {},
     "output_type": "execute_result"
    }
   ],
   "source": [
    "# Check the minumum hight Tim Neudorf\n",
    "# bmi = 703 * weight_lbs / height_in **2\n",
    "\n",
    "tim_bmi = patients[(patients.given_name == \"Tim\") & (patients.surname == \"Neudorf\")].bmi\n",
    "tim_weight = patients[(patients.given_name == \"Tim\") & (patients.surname == \"Neudorf\")].weight\n",
    "tim_height = np.sqrt(703 * tim_weight/tim_bmi)\n",
    "tim_height"
   ]
  },
  {
   "cell_type": "markdown",
   "metadata": {},
   "source": [
    "**that means this is a typo error and Tim Neudorf height is 72 not 27**"
   ]
  },
  {
   "cell_type": "code",
   "execution_count": 25,
   "metadata": {},
   "outputs": [
    {
     "data": {
      "text/plain": [
       "210    107.834851\n",
       "dtype: float64"
      ]
     },
     "execution_count": 25,
     "metadata": {},
     "output_type": "execute_result"
    }
   ],
   "source": [
    "# Check the minumum Weight - Camilla Zaitseva's Weight\n",
    "# bmi = 703 * weight_lbs / height_in **2\n",
    "\n",
    "camilla_bmi = patients[(patients.given_name == \"Camilla\") & (patients.surname == \"Zaitseva\")].bmi\n",
    "camilla_height = patients[(patients.given_name == \"Camilla\") & (patients.surname == \"Zaitseva\")].height\n",
    "camilla_weight = camilla_bmi * (camilla_height**2)/703\n",
    "camilla_weight"
   ]
  },
  {
   "cell_type": "code",
   "execution_count": 26,
   "metadata": {},
   "outputs": [
    {
     "data": {
      "text/plain": [
       "210    48.913026\n",
       "dtype: float64"
      ]
     },
     "execution_count": 26,
     "metadata": {},
     "output_type": "execute_result"
    }
   ],
   "source": [
    "# Check Camilla Zaitseva's Weight in KG\n",
    "# weight_lbs to weight_Kg = weight_lbs * 0.453592\n",
    "\n",
    "camilla_weight_kg = camilla_weight * 0.453592\n",
    "camilla_weight_kg"
   ]
  },
  {
   "cell_type": "markdown",
   "metadata": {},
   "source": [
    "**that means Camilla Zaitseva weight inserted in KG instead of lbs**"
   ]
  },
  {
   "cell_type": "markdown",
   "metadata": {},
   "source": [
    "##  Cleaning Data\n",
    "\n",
    "### <font color='blue'>Missing Data</font>\n",
    "\n",
    "1. Treatments dataframe has 280 instead of 350 total record.\n",
    "2. Treatments dataframe has 109 Missing value -NaN's- on hba1c_change column and hba1c_change calculated wrong.\n",
    "\n",
    "\n",
    "### <font color='blue'>Tidiness issues</font>\n",
    "\n",
    "1. Contact column in `patients` dataframe contains two variables phone number and email.\n",
    "2. Auralin and novodra columns in treatment dataframe should be splited into 3 seperate columns treatment, start_does and end_does.\n",
    "3. Adverse_reactions is not necessary dataframe we can add it as new column on treatment dataframe.\n",
    "4. Given_name and surname are duplicated in all dataframes.they are lower case on treatment and adverse_reactions but title format on patients.\n",
    "\n",
    "### <font color='blue'>Quality issues</font>\n",
    "\n",
    "1. Zip_code is float not string and zip code has 4 digits instead of 5 sometimes.\n",
    "2. Birthdate is string not date.\n",
    "3. State somerimes full name and sometimes abbreviation (California & CA), (Florida & FL), (Illinois & IL), (Nebraska & NE) and (New York & NY).\n",
    "4. Camilla Zaitseva weight is 48.80 kg instead of lbs.\n",
    "5. Tim Neudorf hight 27 instead of 72.\n",
    "6. Contact has multiple phone number formats.\n",
    "7. There's 5 duplicated rows for John Doe.\n",
    "8. There's duplicated values for Jakob Jakobsen, Sandra Taylor and Patrick Gersten.\n",
    "9. Letter u in end of starting and ending dose for auralin and novodra.\n",
    "10. Auralin and novodra is string not float.\n",
    "11.  There's no column for does change.\n",
    "12. There's 1 duplicated row for Joseph Day."
   ]
  },
  {
   "cell_type": "code",
   "execution_count": 27,
   "metadata": {},
   "outputs": [],
   "source": [
    "# make copy of origenal dataframes to clean them\n",
    "\n",
    "patients_clean = patients.copy()\n",
    "treatments_clean = treatments.copy()\n",
    "adverse_reactions_clean = adverse_reactions.copy()"
   ]
  },
  {
   "cell_type": "markdown",
   "metadata": {},
   "source": [
    "### <font color='blue'>Missing Data issues</font>"
   ]
  },
  {
   "cell_type": "markdown",
   "metadata": {},
   "source": [
    "#### 1. treatments dataframe has 280 instead of 350 total record."
   ]
  },
  {
   "cell_type": "markdown",
   "metadata": {},
   "source": [
    "##### Solution\n",
    "* Import treatments Missing records from treatment_cut.csv*.\n",
    "* Add imported dataframe to treatment dataframe using `append` method."
   ]
  },
  {
   "cell_type": "markdown",
   "metadata": {},
   "source": [
    "##### Code"
   ]
  },
  {
   "cell_type": "code",
   "execution_count": 28,
   "metadata": {},
   "outputs": [],
   "source": [
    "#Import treatments Missing records \n",
    "\n",
    "missing_records = pd.read_csv(\"treatments_cut.csv\")\n",
    "treatments_clean = treatments_clean.append(missing_records)"
   ]
  },
  {
   "cell_type": "markdown",
   "metadata": {},
   "source": [
    "##### Test"
   ]
  },
  {
   "cell_type": "code",
   "execution_count": 29,
   "metadata": {},
   "outputs": [
    {
     "data": {
      "text/plain": [
       "(350, 7)"
      ]
     },
     "execution_count": 29,
     "metadata": {},
     "output_type": "execute_result"
    }
   ],
   "source": [
    "#confirm all records are imported\n",
    "\n",
    "treatments_clean.shape"
   ]
  },
  {
   "cell_type": "markdown",
   "metadata": {},
   "source": [
    "#### 2. treatments dataframe has 109 Missing value -NaN's- on hba1c_change column and hba1c_change calculated wrong."
   ]
  },
  {
   "cell_type": "markdown",
   "metadata": {},
   "source": [
    "##### Solution\n",
    "* Fixing 109 NaNs on hba1c_change column by recalculate it using (hba1c_start - hba1c_end) equation.*"
   ]
  },
  {
   "cell_type": "markdown",
   "metadata": {},
   "source": [
    "##### Code"
   ]
  },
  {
   "cell_type": "code",
   "execution_count": 30,
   "metadata": {},
   "outputs": [],
   "source": [
    "# Recalculate hba1c_change\n",
    "\n",
    "treatments_clean.hba1c_change = treatments_clean.hba1c_start - treatments_clean.hba1c_end"
   ]
  },
  {
   "cell_type": "markdown",
   "metadata": {},
   "source": [
    "##### Test"
   ]
  },
  {
   "cell_type": "code",
   "execution_count": 31,
   "metadata": {},
   "outputs": [
    {
     "data": {
      "text/plain": [
       "0"
      ]
     },
     "execution_count": 31,
     "metadata": {},
     "output_type": "execute_result"
    }
   ],
   "source": [
    "# Confirm hba1c_change has no Nans\n",
    "\n",
    "treatments_clean.hba1c_change.isnull().sum()"
   ]
  },
  {
   "cell_type": "markdown",
   "metadata": {},
   "source": [
    "### <font color='blue'>Tidiness issues</font>"
   ]
  },
  {
   "cell_type": "markdown",
   "metadata": {},
   "source": [
    "#### 1. Contact column in `patients` dataframe contains two variables phone number and email."
   ]
  },
  {
   "cell_type": "markdown",
   "metadata": {},
   "source": [
    "##### Solution\n",
    "* Extract phone_number and email to two seperat columns by using regular expressions and `str.extract` method.\n",
    "* Drop contact column."
   ]
  },
  {
   "cell_type": "markdown",
   "metadata": {},
   "source": [
    "##### Code"
   ]
  },
  {
   "cell_type": "code",
   "execution_count": 32,
   "metadata": {},
   "outputs": [],
   "source": [
    "# Extract email and phone number\n",
    "\n",
    "patients_clean['phone_number'] = patients_clean.contact.str.extract('((?:\\+\\d{1,2}\\s)?\\(?\\d{3}\\)?[\\s.-]?\\d{3}[\\s.-]?\\d{4})', expand=True)\n",
    "\n",
    "patients_clean['email'] = patients_clean.contact.str.extract('([a-zA-Z][a-zA-Z0-9_.+-]+@[a-zA-Z0-9-]+\\.[a-zA-Z0-9-.]+[a-zA-Z])', expand=True)"
   ]
  },
  {
   "cell_type": "code",
   "execution_count": 33,
   "metadata": {},
   "outputs": [],
   "source": [
    "# Drop contact column\n",
    "\n",
    "patients_clean = patients_clean.drop('contact', axis=1)"
   ]
  },
  {
   "cell_type": "markdown",
   "metadata": {},
   "source": [
    "##### Test"
   ]
  },
  {
   "cell_type": "code",
   "execution_count": 34,
   "metadata": {},
   "outputs": [
    {
     "data": {
      "text/plain": [
       "283    +1 (708) 845-2053\n",
       "73          978-969-6753\n",
       "482         361-693-4960\n",
       "463         573 437 7334\n",
       "267    +1 (785) 823-6728\n",
       "110    +1 (214) 637-0855\n",
       "340         661-265-8708\n",
       "236         303-360-3627\n",
       "396         863-386-3795\n",
       "60          619-570-3898\n",
       "Name: phone_number, dtype: object"
      ]
     },
     "execution_count": 34,
     "metadata": {},
     "output_type": "execute_result"
    }
   ],
   "source": [
    "# check for phone_number samples \n",
    "\n",
    "patients_clean.phone_number.sample(10)"
   ]
  },
  {
   "cell_type": "code",
   "execution_count": 35,
   "metadata": {},
   "outputs": [
    {
     "data": {
      "text/plain": [
       "404               AaliyahRice@dayrep.com\n",
       "11          Abdul-NurMummarIsa@rhyta.com\n",
       "332                AbelEfrem@fleckens.hu\n",
       "258              AbelYonatan@teleworm.us\n",
       "305    AddolorataLombardi@jourrapide.com\n",
       "118         AdibMutazzGhanem@fleckens.hu\n",
       "420              AdlanShishani@gustr.com\n",
       "238        AkselHVestergaard@armyspy.com\n",
       "61                  AlanMilne@dayrep.com\n",
       "130          AlbertRWolfe@jourrapide.com\n",
       "Name: email, dtype: object"
      ]
     },
     "execution_count": 35,
     "metadata": {},
     "output_type": "execute_result"
    }
   ],
   "source": [
    "# Confirm that no emails start with an integer (regex didn't match for this)\n",
    "\n",
    "patients_clean.email.sort_values().head(10)"
   ]
  },
  {
   "cell_type": "code",
   "execution_count": 36,
   "metadata": {},
   "outputs": [
    {
     "data": {
      "text/plain": [
       "Index(['patient_id', 'assigned_sex', 'given_name', 'surname', 'address',\n",
       "       'city', 'state', 'zip_code', 'country', 'birthdate', 'weight', 'height',\n",
       "       'bmi', 'phone_number', 'email'],\n",
       "      dtype='object')"
      ]
     },
     "execution_count": 36,
     "metadata": {},
     "output_type": "execute_result"
    }
   ],
   "source": [
    "# Confirm contact column is already dropped\n",
    "\n",
    "patients_clean.columns"
   ]
  },
  {
   "cell_type": "markdown",
   "metadata": {},
   "source": [
    "#### 2. auralin and novodra columns in treatment dataframe should be splited into 3 seperate columns treatment, start_does and end_does."
   ]
  },
  {
   "cell_type": "markdown",
   "metadata": {},
   "source": [
    "##### Solution\n",
    "* Melt auralin and novodra columns into treatment and dose columns using `melt` method. \n",
    "* remove \"-\" from auralin and novodra.\n",
    "* Split does column to start_dose and end dose columns using `lambda`function and `split` method \n",
    "* Drop does column"
   ]
  },
  {
   "cell_type": "markdown",
   "metadata": {},
   "source": [
    "##### Code"
   ]
  },
  {
   "cell_type": "code",
   "execution_count": 37,
   "metadata": {},
   "outputs": [],
   "source": [
    "# Melt auralin and novodra columns into treatment\n",
    "\n",
    "treatments_clean = treatments_clean.melt(id_vars=[\"given_name\",\"surname\",\"hba1c_start\",\"hba1c_end\",\"hba1c_change\"], var_name=\"treatment\", value_name=\"does\")\n"
   ]
  },
  {
   "cell_type": "code",
   "execution_count": 38,
   "metadata": {},
   "outputs": [],
   "source": [
    "# remove \"-\" from auralin and novodra\n",
    "\n",
    "treatments_clean = treatments_clean[treatments_clean.does != \"-\"]"
   ]
  },
  {
   "cell_type": "code",
   "execution_count": 39,
   "metadata": {},
   "outputs": [],
   "source": [
    "# Split does column to start_dose and end dose\n",
    "\n",
    "treatments_clean[\"start_does\"] = treatments_clean.does.apply(lambda x: x.split(\"-\")[0]) \n",
    "treatments_clean[\"end_does\"] = treatments_clean.does.apply(lambda x: x.split(\"-\")[1])"
   ]
  },
  {
   "cell_type": "code",
   "execution_count": 40,
   "metadata": {},
   "outputs": [],
   "source": [
    "# Drop does column\n",
    "\n",
    "treatments_clean.drop(\"does\", axis=1, inplace=True)"
   ]
  },
  {
   "cell_type": "markdown",
   "metadata": {},
   "source": [
    "##### Test"
   ]
  },
  {
   "cell_type": "code",
   "execution_count": 41,
   "metadata": {},
   "outputs": [
    {
     "data": {
      "text/html": [
       "<div>\n",
       "<style scoped>\n",
       "    .dataframe tbody tr th:only-of-type {\n",
       "        vertical-align: middle;\n",
       "    }\n",
       "\n",
       "    .dataframe tbody tr th {\n",
       "        vertical-align: top;\n",
       "    }\n",
       "\n",
       "    .dataframe thead th {\n",
       "        text-align: right;\n",
       "    }\n",
       "</style>\n",
       "<table border=\"1\" class=\"dataframe\">\n",
       "  <thead>\n",
       "    <tr style=\"text-align: right;\">\n",
       "      <th></th>\n",
       "      <th>given_name</th>\n",
       "      <th>surname</th>\n",
       "      <th>hba1c_start</th>\n",
       "      <th>hba1c_end</th>\n",
       "      <th>hba1c_change</th>\n",
       "      <th>treatment</th>\n",
       "      <th>start_does</th>\n",
       "      <th>end_does</th>\n",
       "    </tr>\n",
       "  </thead>\n",
       "  <tbody>\n",
       "    <tr>\n",
       "      <th>0</th>\n",
       "      <td>veronika</td>\n",
       "      <td>jindrová</td>\n",
       "      <td>7.63</td>\n",
       "      <td>7.20</td>\n",
       "      <td>0.43</td>\n",
       "      <td>auralin</td>\n",
       "      <td>41u</td>\n",
       "      <td>48u</td>\n",
       "    </tr>\n",
       "    <tr>\n",
       "      <th>3</th>\n",
       "      <td>skye</td>\n",
       "      <td>gormanston</td>\n",
       "      <td>7.97</td>\n",
       "      <td>7.62</td>\n",
       "      <td>0.35</td>\n",
       "      <td>auralin</td>\n",
       "      <td>33u</td>\n",
       "      <td>36u</td>\n",
       "    </tr>\n",
       "    <tr>\n",
       "      <th>6</th>\n",
       "      <td>sophia</td>\n",
       "      <td>haugen</td>\n",
       "      <td>7.65</td>\n",
       "      <td>7.27</td>\n",
       "      <td>0.38</td>\n",
       "      <td>auralin</td>\n",
       "      <td>37u</td>\n",
       "      <td>42u</td>\n",
       "    </tr>\n",
       "    <tr>\n",
       "      <th>7</th>\n",
       "      <td>eddie</td>\n",
       "      <td>archer</td>\n",
       "      <td>7.89</td>\n",
       "      <td>7.55</td>\n",
       "      <td>0.34</td>\n",
       "      <td>auralin</td>\n",
       "      <td>31u</td>\n",
       "      <td>38u</td>\n",
       "    </tr>\n",
       "    <tr>\n",
       "      <th>9</th>\n",
       "      <td>asia</td>\n",
       "      <td>woźniak</td>\n",
       "      <td>7.76</td>\n",
       "      <td>7.37</td>\n",
       "      <td>0.39</td>\n",
       "      <td>auralin</td>\n",
       "      <td>30u</td>\n",
       "      <td>36u</td>\n",
       "    </tr>\n",
       "  </tbody>\n",
       "</table>\n",
       "</div>"
      ],
      "text/plain": [
       "  given_name     surname  hba1c_start  hba1c_end  hba1c_change treatment  \\\n",
       "0   veronika    jindrová         7.63       7.20          0.43   auralin   \n",
       "3       skye  gormanston         7.97       7.62          0.35   auralin   \n",
       "6     sophia      haugen         7.65       7.27          0.38   auralin   \n",
       "7      eddie      archer         7.89       7.55          0.34   auralin   \n",
       "9       asia     woźniak         7.76       7.37          0.39   auralin   \n",
       "\n",
       "  start_does end_does  \n",
       "0       41u       48u  \n",
       "3       33u       36u  \n",
       "6       37u       42u  \n",
       "7       31u       38u  \n",
       "9       30u       36u  "
      ]
     },
     "execution_count": 41,
     "metadata": {},
     "output_type": "execute_result"
    }
   ],
   "source": [
    "# check head and tail from treatment\n",
    "\n",
    "treatments_clean.head(5)"
   ]
  },
  {
   "cell_type": "code",
   "execution_count": 42,
   "metadata": {},
   "outputs": [
    {
     "data": {
      "text/html": [
       "<div>\n",
       "<style scoped>\n",
       "    .dataframe tbody tr th:only-of-type {\n",
       "        vertical-align: middle;\n",
       "    }\n",
       "\n",
       "    .dataframe tbody tr th {\n",
       "        vertical-align: top;\n",
       "    }\n",
       "\n",
       "    .dataframe thead th {\n",
       "        text-align: right;\n",
       "    }\n",
       "</style>\n",
       "<table border=\"1\" class=\"dataframe\">\n",
       "  <thead>\n",
       "    <tr style=\"text-align: right;\">\n",
       "      <th></th>\n",
       "      <th>given_name</th>\n",
       "      <th>surname</th>\n",
       "      <th>hba1c_start</th>\n",
       "      <th>hba1c_end</th>\n",
       "      <th>hba1c_change</th>\n",
       "      <th>treatment</th>\n",
       "      <th>start_does</th>\n",
       "      <th>end_does</th>\n",
       "    </tr>\n",
       "  </thead>\n",
       "  <tbody>\n",
       "    <tr>\n",
       "      <th>688</th>\n",
       "      <td>christopher</td>\n",
       "      <td>woodward</td>\n",
       "      <td>7.51</td>\n",
       "      <td>7.06</td>\n",
       "      <td>0.45</td>\n",
       "      <td>novodra</td>\n",
       "      <td>55u</td>\n",
       "      <td>51u</td>\n",
       "    </tr>\n",
       "    <tr>\n",
       "      <th>690</th>\n",
       "      <td>maret</td>\n",
       "      <td>sultygov</td>\n",
       "      <td>7.67</td>\n",
       "      <td>7.30</td>\n",
       "      <td>0.37</td>\n",
       "      <td>novodra</td>\n",
       "      <td>26u</td>\n",
       "      <td>23u</td>\n",
       "    </tr>\n",
       "    <tr>\n",
       "      <th>694</th>\n",
       "      <td>lixue</td>\n",
       "      <td>hsueh</td>\n",
       "      <td>9.21</td>\n",
       "      <td>8.80</td>\n",
       "      <td>0.41</td>\n",
       "      <td>novodra</td>\n",
       "      <td>22u</td>\n",
       "      <td>23u</td>\n",
       "    </tr>\n",
       "    <tr>\n",
       "      <th>696</th>\n",
       "      <td>jakob</td>\n",
       "      <td>jakobsen</td>\n",
       "      <td>7.96</td>\n",
       "      <td>7.51</td>\n",
       "      <td>0.45</td>\n",
       "      <td>novodra</td>\n",
       "      <td>28u</td>\n",
       "      <td>26u</td>\n",
       "    </tr>\n",
       "    <tr>\n",
       "      <th>698</th>\n",
       "      <td>berta</td>\n",
       "      <td>napolitani</td>\n",
       "      <td>7.68</td>\n",
       "      <td>7.21</td>\n",
       "      <td>0.47</td>\n",
       "      <td>novodra</td>\n",
       "      <td>42u</td>\n",
       "      <td>44u</td>\n",
       "    </tr>\n",
       "  </tbody>\n",
       "</table>\n",
       "</div>"
      ],
      "text/plain": [
       "      given_name     surname  hba1c_start  hba1c_end  hba1c_change treatment  \\\n",
       "688  christopher    woodward         7.51       7.06          0.45   novodra   \n",
       "690        maret    sultygov         7.67       7.30          0.37   novodra   \n",
       "694        lixue       hsueh         9.21       8.80          0.41   novodra   \n",
       "696        jakob    jakobsen         7.96       7.51          0.45   novodra   \n",
       "698        berta  napolitani         7.68       7.21          0.47   novodra   \n",
       "\n",
       "    start_does end_does  \n",
       "688       55u       51u  \n",
       "690       26u       23u  \n",
       "694       22u       23u  \n",
       "696       28u       26u  \n",
       "698       42u       44u  "
      ]
     },
     "execution_count": 42,
     "metadata": {},
     "output_type": "execute_result"
    }
   ],
   "source": [
    "treatments_clean.tail(5)"
   ]
  },
  {
   "cell_type": "markdown",
   "metadata": {},
   "source": [
    "#### 3. adverse_reactions is not necessary dataframe we can add it as new column on treatment dataframe."
   ]
  },
  {
   "cell_type": "markdown",
   "metadata": {},
   "source": [
    "##### Solution\n",
    "* Merge adverse_reactions with treatment and joining by given_name & surname"
   ]
  },
  {
   "cell_type": "markdown",
   "metadata": {},
   "source": [
    "##### Code"
   ]
  },
  {
   "cell_type": "code",
   "execution_count": 43,
   "metadata": {},
   "outputs": [],
   "source": [
    "# Merge adverse_reactions with treatment \n",
    "\n",
    "treatments_clean = pd.merge(treatments_clean, adverse_reactions_clean, on=[\"given_name\",\"surname\"], how=\"left\")"
   ]
  },
  {
   "cell_type": "markdown",
   "metadata": {},
   "source": [
    "##### Test"
   ]
  },
  {
   "cell_type": "code",
   "execution_count": 44,
   "metadata": {},
   "outputs": [
    {
     "data": {
      "text/plain": [
       "hypoglycemia                 20\n",
       "injection site discomfort     6\n",
       "headache                      3\n",
       "throat irritation             2\n",
       "nausea                        2\n",
       "cough                         2\n",
       "Name: adverse_reaction, dtype: int64"
      ]
     },
     "execution_count": 44,
     "metadata": {},
     "output_type": "execute_result"
    }
   ],
   "source": [
    "treatments_clean.adverse_reaction.value_counts()"
   ]
  },
  {
   "cell_type": "markdown",
   "metadata": {},
   "source": [
    "#### 4. given_name and surname are duplicated in all dataframes.they are lower case on treatment and adverse_reactions but title format on patients."
   ]
  },
  {
   "cell_type": "markdown",
   "metadata": {},
   "source": [
    "##### Solution\n",
    "* Change given_name and surname on patients dataframe into lower case format.\n",
    "* Join patient_id into treatment dataframe (it's better to use id than name).\n",
    "* Drop given_name and surname from treatment dataframe."
   ]
  },
  {
   "cell_type": "markdown",
   "metadata": {},
   "source": [
    "##### Code"
   ]
  },
  {
   "cell_type": "code",
   "execution_count": 45,
   "metadata": {},
   "outputs": [],
   "source": [
    "# Change given_name and surname into lower case format\n",
    "\n",
    "patients_clean[\"given_name\"] = patients_clean[\"given_name\"].str.lower() \n",
    "patients_clean[\"surname\"] = patients_clean[\"surname\"].str.lower() "
   ]
  },
  {
   "cell_type": "code",
   "execution_count": 46,
   "metadata": {},
   "outputs": [],
   "source": [
    "# Join patient id into treatments \n",
    "\n",
    "columns_to_merge = patients_clean[[\"patient_id\", \"given_name\", \"surname\"]]\n",
    "treatments_clean = pd.merge(treatments_clean, columns_to_merge, on = [\"given_name\",\"surname\"])"
   ]
  },
  {
   "cell_type": "code",
   "execution_count": 47,
   "metadata": {},
   "outputs": [],
   "source": [
    "# Drop given_name and surname \n",
    "\n",
    "treatments_clean.drop([\"given_name\",\"surname\"], axis=1, inplace = True)"
   ]
  },
  {
   "cell_type": "code",
   "execution_count": 48,
   "metadata": {},
   "outputs": [],
   "source": [
    "# make patient_id first column \n",
    "\n",
    "col = treatments_clean.columns.tolist()\n",
    "col = col[-1:] + col[:-1]\n",
    "treatments_clean = treatments_clean[col]"
   ]
  },
  {
   "cell_type": "markdown",
   "metadata": {},
   "source": [
    "##### Test"
   ]
  },
  {
   "cell_type": "code",
   "execution_count": 49,
   "metadata": {},
   "outputs": [
    {
     "data": {
      "text/html": [
       "<div>\n",
       "<style scoped>\n",
       "    .dataframe tbody tr th:only-of-type {\n",
       "        vertical-align: middle;\n",
       "    }\n",
       "\n",
       "    .dataframe tbody tr th {\n",
       "        vertical-align: top;\n",
       "    }\n",
       "\n",
       "    .dataframe thead th {\n",
       "        text-align: right;\n",
       "    }\n",
       "</style>\n",
       "<table border=\"1\" class=\"dataframe\">\n",
       "  <thead>\n",
       "    <tr style=\"text-align: right;\">\n",
       "      <th></th>\n",
       "      <th>patient_id</th>\n",
       "      <th>hba1c_start</th>\n",
       "      <th>hba1c_end</th>\n",
       "      <th>hba1c_change</th>\n",
       "      <th>treatment</th>\n",
       "      <th>start_does</th>\n",
       "      <th>end_does</th>\n",
       "      <th>adverse_reaction</th>\n",
       "    </tr>\n",
       "  </thead>\n",
       "  <tbody>\n",
       "    <tr>\n",
       "      <th>343</th>\n",
       "      <td>7</td>\n",
       "      <td>7.65</td>\n",
       "      <td>7.26</td>\n",
       "      <td>0.39</td>\n",
       "      <td>novodra</td>\n",
       "      <td>32u</td>\n",
       "      <td>33u</td>\n",
       "      <td>NaN</td>\n",
       "    </tr>\n",
       "    <tr>\n",
       "      <th>346</th>\n",
       "      <td>336</td>\n",
       "      <td>9.21</td>\n",
       "      <td>8.80</td>\n",
       "      <td>0.41</td>\n",
       "      <td>novodra</td>\n",
       "      <td>22u</td>\n",
       "      <td>23u</td>\n",
       "      <td>injection site discomfort</td>\n",
       "    </tr>\n",
       "    <tr>\n",
       "      <th>64</th>\n",
       "      <td>374</td>\n",
       "      <td>7.79</td>\n",
       "      <td>7.49</td>\n",
       "      <td>0.30</td>\n",
       "      <td>auralin</td>\n",
       "      <td>54u</td>\n",
       "      <td>54u</td>\n",
       "      <td>NaN</td>\n",
       "    </tr>\n",
       "    <tr>\n",
       "      <th>145</th>\n",
       "      <td>417</td>\n",
       "      <td>7.73</td>\n",
       "      <td>7.34</td>\n",
       "      <td>0.39</td>\n",
       "      <td>auralin</td>\n",
       "      <td>36u</td>\n",
       "      <td>44u</td>\n",
       "      <td>NaN</td>\n",
       "    </tr>\n",
       "    <tr>\n",
       "      <th>230</th>\n",
       "      <td>123</td>\n",
       "      <td>7.73</td>\n",
       "      <td>7.32</td>\n",
       "      <td>0.41</td>\n",
       "      <td>novodra</td>\n",
       "      <td>41u</td>\n",
       "      <td>40u</td>\n",
       "      <td>NaN</td>\n",
       "    </tr>\n",
       "  </tbody>\n",
       "</table>\n",
       "</div>"
      ],
      "text/plain": [
       "     patient_id  hba1c_start  hba1c_end  hba1c_change treatment start_does  \\\n",
       "343           7         7.65       7.26          0.39   novodra       32u    \n",
       "346         336         9.21       8.80          0.41   novodra       22u    \n",
       "64          374         7.79       7.49          0.30   auralin       54u    \n",
       "145         417         7.73       7.34          0.39   auralin       36u    \n",
       "230         123         7.73       7.32          0.41   novodra       41u    \n",
       "\n",
       "    end_does           adverse_reaction  \n",
       "343      33u                        NaN  \n",
       "346      23u  injection site discomfort  \n",
       "64       54u                        NaN  \n",
       "145      44u                        NaN  \n",
       "230      40u                        NaN  "
      ]
     },
     "execution_count": 49,
     "metadata": {},
     "output_type": "execute_result"
    }
   ],
   "source": [
    "# Confirm patient_id already added and given_name and surname already dropped\n",
    "\n",
    "treatments_clean.sample(5)"
   ]
  },
  {
   "cell_type": "markdown",
   "metadata": {},
   "source": [
    "### <font color='blue'>Quality issues</font>"
   ]
  },
  {
   "cell_type": "markdown",
   "metadata": {},
   "source": [
    "#### 1. zip_code is float not string and zip code has 4 digits instead of 5 sometimes."
   ]
  },
  {
   "cell_type": "markdown",
   "metadata": {},
   "source": [
    "##### Solution\n",
    "* Change zip_code column type to string using `.astype` method.\n",
    "* Fill '0' before zip_code that has just 4 digits using `.pad` mmethod.\n",
    "* Fix NaN values."
   ]
  },
  {
   "cell_type": "markdown",
   "metadata": {},
   "source": [
    "##### Code"
   ]
  },
  {
   "cell_type": "code",
   "execution_count": 50,
   "metadata": {},
   "outputs": [],
   "source": [
    "# change zipcode type to string and fill '0' before zip_code that has just 4 digits\n",
    "\n",
    "patients_clean.zip_code = patients_clean.zip_code.astype(str).str[:-2].str.pad(5, fillchar='0')\n",
    "\n",
    "# Fix NaN values.\n",
    "\n",
    "patients_clean.zip_code = patients_clean.zip_code.replace(\"0000n\",np.nan)"
   ]
  },
  {
   "cell_type": "markdown",
   "metadata": {},
   "source": [
    "##### Test"
   ]
  },
  {
   "cell_type": "code",
   "execution_count": 51,
   "metadata": {},
   "outputs": [
    {
     "data": {
      "text/plain": [
       "316    01002\n",
       "38     01581\n",
       "290    01730\n",
       "252    01730\n",
       "167    01730\n",
       "       ...  \n",
       "264      NaN\n",
       "269      NaN\n",
       "278      NaN\n",
       "286      NaN\n",
       "296      NaN\n",
       "Name: zip_code, Length: 503, dtype: object"
      ]
     },
     "execution_count": 51,
     "metadata": {},
     "output_type": "execute_result"
    }
   ],
   "source": [
    "# confirm zip_code type and digits less than 5\n",
    "\n",
    "patients_clean.zip_code.sort_values()"
   ]
  },
  {
   "cell_type": "markdown",
   "metadata": {},
   "source": [
    "#### 2. birthdate is string not date. start_does and end_does is string not float."
   ]
  },
  {
   "cell_type": "markdown",
   "metadata": {},
   "source": [
    "##### Solution\n",
    "* Change birthdate column type to datetime using `.to_datetime` method."
   ]
  },
  {
   "cell_type": "markdown",
   "metadata": {},
   "source": [
    "##### Code"
   ]
  },
  {
   "cell_type": "code",
   "execution_count": 52,
   "metadata": {},
   "outputs": [],
   "source": [
    "# Change birthdate column type\n",
    "\n",
    "patients_clean.birthdate = pd.to_datetime(patients_clean.birthdate)"
   ]
  },
  {
   "cell_type": "markdown",
   "metadata": {},
   "source": [
    "##### Test"
   ]
  },
  {
   "cell_type": "code",
   "execution_count": 53,
   "metadata": {},
   "outputs": [
    {
     "name": "stdout",
     "output_type": "stream",
     "text": [
      "<class 'pandas.core.frame.DataFrame'>\n",
      "RangeIndex: 503 entries, 0 to 502\n",
      "Data columns (total 15 columns):\n",
      " #   Column        Non-Null Count  Dtype         \n",
      "---  ------        --------------  -----         \n",
      " 0   patient_id    503 non-null    int64         \n",
      " 1   assigned_sex  503 non-null    object        \n",
      " 2   given_name    503 non-null    object        \n",
      " 3   surname       503 non-null    object        \n",
      " 4   address       491 non-null    object        \n",
      " 5   city          491 non-null    object        \n",
      " 6   state         491 non-null    object        \n",
      " 7   zip_code      491 non-null    object        \n",
      " 8   country       491 non-null    object        \n",
      " 9   birthdate     503 non-null    datetime64[ns]\n",
      " 10  weight        503 non-null    float64       \n",
      " 11  height        503 non-null    int64         \n",
      " 12  bmi           503 non-null    float64       \n",
      " 13  phone_number  491 non-null    object        \n",
      " 14  email         491 non-null    object        \n",
      "dtypes: datetime64[ns](1), float64(2), int64(2), object(10)\n",
      "memory usage: 59.1+ KB\n"
     ]
    }
   ],
   "source": [
    "# confirm birthdate type already changed\n",
    "\n",
    "patients_clean.info()"
   ]
  },
  {
   "cell_type": "markdown",
   "metadata": {},
   "source": [
    "#### 3. state somerimes full word and sometimes abbreviation (California & CA), (Florida & FL), (Illinois & IL), (Nebraska & NE) and (New York & NY)."
   ]
  },
  {
   "cell_type": "markdown",
   "metadata": {},
   "source": [
    "##### Solution\n",
    "* Replace every full state name with state abbreviation using `mapping` search and `lambda` function "
   ]
  },
  {
   "cell_type": "markdown",
   "metadata": {},
   "source": [
    "##### Code"
   ]
  },
  {
   "cell_type": "code",
   "execution_count": 54,
   "metadata": {},
   "outputs": [],
   "source": [
    "#Replace every full state name with state abbreviation\n",
    "\n",
    "state_abbrev = {'California': 'CA',\n",
    "                'Florida': 'FL',\n",
    "                'Illinois': 'IL',\n",
    "                'Nebraska': 'NE',\n",
    "                'New York': 'NY'\n",
    "                }\n",
    "patients_clean.state = patients_clean.state.apply(lambda x: state_abbrev[x] if x in state_abbrev.keys() else x)"
   ]
  },
  {
   "cell_type": "markdown",
   "metadata": {},
   "source": [
    "##### Test"
   ]
  },
  {
   "cell_type": "code",
   "execution_count": 55,
   "metadata": {},
   "outputs": [
    {
     "data": {
      "text/plain": [
       "['AK',\n",
       " 'AL',\n",
       " 'AL',\n",
       " 'AL',\n",
       " 'AL',\n",
       " 'AL',\n",
       " 'AL',\n",
       " 'AL',\n",
       " 'AL',\n",
       " 'AL',\n",
       " 'AR',\n",
       " 'AR',\n",
       " 'AR',\n",
       " 'AR',\n",
       " 'AZ',\n",
       " 'AZ',\n",
       " 'AZ',\n",
       " 'AZ',\n",
       " 'CA',\n",
       " 'CA',\n",
       " 'CA',\n",
       " 'CA',\n",
       " 'CA',\n",
       " 'CA',\n",
       " 'CA',\n",
       " 'CA',\n",
       " 'CA',\n",
       " 'CA',\n",
       " 'CA',\n",
       " 'CA',\n",
       " 'CA',\n",
       " 'CA',\n",
       " 'CA',\n",
       " 'CA',\n",
       " 'CA',\n",
       " 'CA',\n",
       " 'CA',\n",
       " 'CA',\n",
       " 'CA',\n",
       " 'CA',\n",
       " 'CA',\n",
       " 'CA',\n",
       " 'CA',\n",
       " 'CA',\n",
       " 'CA',\n",
       " 'CA',\n",
       " 'CA',\n",
       " 'CA',\n",
       " 'CA',\n",
       " 'CA',\n",
       " 'CA',\n",
       " 'CA',\n",
       " 'CA',\n",
       " 'CA',\n",
       " 'CA',\n",
       " 'CA',\n",
       " 'CA',\n",
       " 'CA',\n",
       " 'CA',\n",
       " 'CA',\n",
       " 'CA',\n",
       " 'CA',\n",
       " 'CA',\n",
       " 'CA',\n",
       " 'CA',\n",
       " 'CA',\n",
       " 'CA',\n",
       " 'CA',\n",
       " 'CA',\n",
       " 'CA',\n",
       " 'CA',\n",
       " 'CA',\n",
       " 'CA',\n",
       " 'CA',\n",
       " 'CA',\n",
       " 'CA',\n",
       " 'CA',\n",
       " 'CA',\n",
       " 'CO',\n",
       " 'CO',\n",
       " 'CO',\n",
       " 'CO',\n",
       " 'CT',\n",
       " 'CT',\n",
       " 'CT',\n",
       " 'CT',\n",
       " 'CT',\n",
       " 'DC',\n",
       " 'DC',\n",
       " 'DE',\n",
       " 'DE',\n",
       " 'DE',\n",
       " 'FL',\n",
       " 'FL',\n",
       " 'FL',\n",
       " 'FL',\n",
       " 'FL',\n",
       " 'FL',\n",
       " 'FL',\n",
       " 'FL',\n",
       " 'FL',\n",
       " 'FL',\n",
       " 'FL',\n",
       " 'FL',\n",
       " 'FL',\n",
       " 'FL',\n",
       " 'FL',\n",
       " 'FL',\n",
       " 'FL',\n",
       " 'FL',\n",
       " 'FL',\n",
       " 'FL',\n",
       " 'FL',\n",
       " 'FL',\n",
       " 'GA',\n",
       " 'GA',\n",
       " 'GA',\n",
       " 'GA',\n",
       " 'GA',\n",
       " 'GA',\n",
       " 'GA',\n",
       " 'GA',\n",
       " 'GA',\n",
       " 'GA',\n",
       " 'GA',\n",
       " 'GA',\n",
       " 'GA',\n",
       " 'GA',\n",
       " 'GA',\n",
       " 'IA',\n",
       " 'IA',\n",
       " 'IA',\n",
       " 'IA',\n",
       " 'IA',\n",
       " 'ID',\n",
       " 'ID',\n",
       " 'ID',\n",
       " 'ID',\n",
       " 'ID',\n",
       " 'ID',\n",
       " 'IL',\n",
       " 'IL',\n",
       " 'IL',\n",
       " 'IL',\n",
       " 'IL',\n",
       " 'IL',\n",
       " 'IL',\n",
       " 'IL',\n",
       " 'IL',\n",
       " 'IL',\n",
       " 'IL',\n",
       " 'IL',\n",
       " 'IL',\n",
       " 'IL',\n",
       " 'IL',\n",
       " 'IL',\n",
       " 'IL',\n",
       " 'IL',\n",
       " 'IL',\n",
       " 'IL',\n",
       " 'IL',\n",
       " 'IL',\n",
       " 'IL',\n",
       " 'IL',\n",
       " 'IN',\n",
       " 'IN',\n",
       " 'IN',\n",
       " 'IN',\n",
       " 'IN',\n",
       " 'IN',\n",
       " 'IN',\n",
       " 'IN',\n",
       " 'IN',\n",
       " 'KS',\n",
       " 'KS',\n",
       " 'KS',\n",
       " 'KS',\n",
       " 'KS',\n",
       " 'KS',\n",
       " 'KY',\n",
       " 'KY',\n",
       " 'KY',\n",
       " 'KY',\n",
       " 'KY',\n",
       " 'KY',\n",
       " 'KY',\n",
       " 'KY',\n",
       " 'LA',\n",
       " 'LA',\n",
       " 'LA',\n",
       " 'LA',\n",
       " 'LA',\n",
       " 'LA',\n",
       " 'LA',\n",
       " 'LA',\n",
       " 'LA',\n",
       " 'LA',\n",
       " 'LA',\n",
       " 'LA',\n",
       " 'LA',\n",
       " 'MA',\n",
       " 'MA',\n",
       " 'MA',\n",
       " 'MA',\n",
       " 'MA',\n",
       " 'MA',\n",
       " 'MA',\n",
       " 'MA',\n",
       " 'MA',\n",
       " 'MA',\n",
       " 'MA',\n",
       " 'MA',\n",
       " 'MA',\n",
       " 'MA',\n",
       " 'MA',\n",
       " 'MA',\n",
       " 'MA',\n",
       " 'MA',\n",
       " 'MA',\n",
       " 'MA',\n",
       " 'MA',\n",
       " 'MA',\n",
       " 'MD',\n",
       " 'MD',\n",
       " 'MD',\n",
       " 'ME',\n",
       " 'ME',\n",
       " 'ME',\n",
       " 'ME',\n",
       " 'MI',\n",
       " 'MI',\n",
       " 'MI',\n",
       " 'MI',\n",
       " 'MI',\n",
       " 'MI',\n",
       " 'MI',\n",
       " 'MI',\n",
       " 'MI',\n",
       " 'MI',\n",
       " 'MI',\n",
       " 'MI',\n",
       " 'MI',\n",
       " 'MN',\n",
       " 'MN',\n",
       " 'MN',\n",
       " 'MN',\n",
       " 'MN',\n",
       " 'MN',\n",
       " 'MN',\n",
       " 'MN',\n",
       " 'MN',\n",
       " 'MO',\n",
       " 'MO',\n",
       " 'MO',\n",
       " 'MO',\n",
       " 'MO',\n",
       " 'MO',\n",
       " 'MO',\n",
       " 'MS',\n",
       " 'MS',\n",
       " 'MS',\n",
       " 'MS',\n",
       " 'MS',\n",
       " 'MS',\n",
       " 'MS',\n",
       " 'MS',\n",
       " 'MS',\n",
       " 'MS',\n",
       " 'MT',\n",
       " 'MT',\n",
       " 'NC',\n",
       " 'NC',\n",
       " 'NC',\n",
       " 'NC',\n",
       " 'NC',\n",
       " 'NC',\n",
       " 'NC',\n",
       " 'NC',\n",
       " 'ND',\n",
       " 'ND',\n",
       " 'ND',\n",
       " 'ND',\n",
       " 'NE',\n",
       " 'NE',\n",
       " 'NE',\n",
       " 'NE',\n",
       " 'NE',\n",
       " 'NE',\n",
       " 'NH',\n",
       " 'NJ',\n",
       " 'NJ',\n",
       " 'NJ',\n",
       " 'NJ',\n",
       " 'NJ',\n",
       " 'NJ',\n",
       " 'NJ',\n",
       " 'NJ',\n",
       " 'NJ',\n",
       " 'NJ',\n",
       " 'NJ',\n",
       " 'NJ',\n",
       " 'NM',\n",
       " 'NV',\n",
       " 'NV',\n",
       " 'NV',\n",
       " 'NV',\n",
       " 'NV',\n",
       " 'NV',\n",
       " 'NY',\n",
       " 'NY',\n",
       " 'NY',\n",
       " 'NY',\n",
       " 'NY',\n",
       " 'NY',\n",
       " 'NY',\n",
       " 'NY',\n",
       " 'NY',\n",
       " 'NY',\n",
       " 'NY',\n",
       " 'NY',\n",
       " 'NY',\n",
       " 'NY',\n",
       " 'NY',\n",
       " 'NY',\n",
       " 'NY',\n",
       " 'NY',\n",
       " 'NY',\n",
       " 'NY',\n",
       " 'NY',\n",
       " 'NY',\n",
       " 'NY',\n",
       " 'NY',\n",
       " 'NY',\n",
       " 'NY',\n",
       " 'NY',\n",
       " 'NY',\n",
       " 'NY',\n",
       " 'NY',\n",
       " 'NY',\n",
       " 'NY',\n",
       " 'NY',\n",
       " 'NY',\n",
       " 'NY',\n",
       " 'NY',\n",
       " 'NY',\n",
       " 'NY',\n",
       " 'NY',\n",
       " 'NY',\n",
       " 'NY',\n",
       " 'NY',\n",
       " 'NY',\n",
       " 'NY',\n",
       " 'NY',\n",
       " 'NY',\n",
       " 'NY',\n",
       " 'OH',\n",
       " 'OH',\n",
       " 'OH',\n",
       " 'OH',\n",
       " 'OH',\n",
       " 'OH',\n",
       " 'OH',\n",
       " 'OH',\n",
       " 'OH',\n",
       " 'OH',\n",
       " 'OH',\n",
       " 'OH',\n",
       " 'OH',\n",
       " 'OH',\n",
       " 'OK',\n",
       " 'OK',\n",
       " 'OK',\n",
       " 'OK',\n",
       " 'OK',\n",
       " 'OK',\n",
       " 'OK',\n",
       " 'OK',\n",
       " 'OK',\n",
       " 'OK',\n",
       " 'OK',\n",
       " 'OK',\n",
       " 'OK',\n",
       " 'OR',\n",
       " 'OR',\n",
       " 'OR',\n",
       " 'PA',\n",
       " 'PA',\n",
       " 'PA',\n",
       " 'PA',\n",
       " 'PA',\n",
       " 'PA',\n",
       " 'PA',\n",
       " 'PA',\n",
       " 'PA',\n",
       " 'PA',\n",
       " 'PA',\n",
       " 'PA',\n",
       " 'PA',\n",
       " 'PA',\n",
       " 'PA',\n",
       " 'PA',\n",
       " 'PA',\n",
       " 'PA',\n",
       " 'RI',\n",
       " 'RI',\n",
       " 'RI',\n",
       " 'RI',\n",
       " 'SC',\n",
       " 'SC',\n",
       " 'SC',\n",
       " 'SC',\n",
       " 'SC',\n",
       " 'SD',\n",
       " 'SD',\n",
       " 'SD',\n",
       " 'TN',\n",
       " 'TN',\n",
       " 'TN',\n",
       " 'TN',\n",
       " 'TN',\n",
       " 'TN',\n",
       " 'TN',\n",
       " 'TN',\n",
       " 'TN',\n",
       " 'TX',\n",
       " 'TX',\n",
       " 'TX',\n",
       " 'TX',\n",
       " 'TX',\n",
       " 'TX',\n",
       " 'TX',\n",
       " 'TX',\n",
       " 'TX',\n",
       " 'TX',\n",
       " 'TX',\n",
       " 'TX',\n",
       " 'TX',\n",
       " 'TX',\n",
       " 'TX',\n",
       " 'TX',\n",
       " 'TX',\n",
       " 'TX',\n",
       " 'TX',\n",
       " 'TX',\n",
       " 'TX',\n",
       " 'TX',\n",
       " 'TX',\n",
       " 'TX',\n",
       " 'TX',\n",
       " 'TX',\n",
       " 'TX',\n",
       " 'TX',\n",
       " 'TX',\n",
       " 'TX',\n",
       " 'TX',\n",
       " 'TX',\n",
       " 'VA',\n",
       " 'VA',\n",
       " 'VA',\n",
       " 'VA',\n",
       " 'VA',\n",
       " 'VA',\n",
       " 'VA',\n",
       " 'VA',\n",
       " 'VA',\n",
       " 'VA',\n",
       " 'VA',\n",
       " 'VT',\n",
       " 'VT',\n",
       " 'WA',\n",
       " 'WA',\n",
       " 'WA',\n",
       " 'WA',\n",
       " 'WA',\n",
       " 'WA',\n",
       " 'WA',\n",
       " 'WA',\n",
       " 'WI',\n",
       " 'WI',\n",
       " 'WI',\n",
       " 'WI',\n",
       " 'WI',\n",
       " 'WI',\n",
       " 'WI',\n",
       " 'WI',\n",
       " 'WI',\n",
       " 'WI',\n",
       " 'WV',\n",
       " 'WV',\n",
       " 'WV',\n",
       " 'WY',\n",
       " nan,\n",
       " nan,\n",
       " nan,\n",
       " nan,\n",
       " nan,\n",
       " nan,\n",
       " nan,\n",
       " nan,\n",
       " nan,\n",
       " nan,\n",
       " nan,\n",
       " nan]"
      ]
     },
     "execution_count": 55,
     "metadata": {},
     "output_type": "execute_result"
    }
   ],
   "source": [
    "list(patients_clean.state.sort_values())"
   ]
  },
  {
   "cell_type": "markdown",
   "metadata": {},
   "source": [
    "#### 4. Camilla Zaitseva weight is 48.80 kg instead of lbs."
   ]
  },
  {
   "cell_type": "markdown",
   "metadata": {},
   "source": [
    "##### Solution\n",
    "* Convert weight from kg to lbs using `weight_Kg = weight_lbs * 0.453592` evaluation then replace the wrong value with correct one."
   ]
  },
  {
   "cell_type": "markdown",
   "metadata": {},
   "source": [
    "##### Code"
   ]
  },
  {
   "cell_type": "code",
   "execution_count": 56,
   "metadata": {},
   "outputs": [],
   "source": [
    "# Convert wight to lbs \n",
    "# weight_lbs = weight_kg / 0.453592\n",
    "\n",
    "mask = patients_clean.surname == \"zaitseva\"\n",
    "weight_in_kg = patients_clean.weight.min()\n",
    "weight_in_lbs = round(weight_in_kg/0.453592,2)\n",
    "patients_clean.loc[mask,\"weight\"]= weight_in_lbs"
   ]
  },
  {
   "cell_type": "markdown",
   "metadata": {},
   "source": [
    "##### Test"
   ]
  },
  {
   "cell_type": "code",
   "execution_count": 57,
   "metadata": {},
   "outputs": [
    {
     "data": {
      "text/html": [
       "<div>\n",
       "<style scoped>\n",
       "    .dataframe tbody tr th:only-of-type {\n",
       "        vertical-align: middle;\n",
       "    }\n",
       "\n",
       "    .dataframe tbody tr th {\n",
       "        vertical-align: top;\n",
       "    }\n",
       "\n",
       "    .dataframe thead th {\n",
       "        text-align: right;\n",
       "    }\n",
       "</style>\n",
       "<table border=\"1\" class=\"dataframe\">\n",
       "  <thead>\n",
       "    <tr style=\"text-align: right;\">\n",
       "      <th></th>\n",
       "      <th>patient_id</th>\n",
       "      <th>assigned_sex</th>\n",
       "      <th>given_name</th>\n",
       "      <th>surname</th>\n",
       "      <th>address</th>\n",
       "      <th>city</th>\n",
       "      <th>state</th>\n",
       "      <th>zip_code</th>\n",
       "      <th>country</th>\n",
       "      <th>birthdate</th>\n",
       "      <th>weight</th>\n",
       "      <th>height</th>\n",
       "      <th>bmi</th>\n",
       "      <th>phone_number</th>\n",
       "      <th>email</th>\n",
       "    </tr>\n",
       "  </thead>\n",
       "  <tbody>\n",
       "    <tr>\n",
       "      <th>210</th>\n",
       "      <td>211</td>\n",
       "      <td>female</td>\n",
       "      <td>camilla</td>\n",
       "      <td>zaitseva</td>\n",
       "      <td>4689 Briarhill Lane</td>\n",
       "      <td>Wooster</td>\n",
       "      <td>OH</td>\n",
       "      <td>44691</td>\n",
       "      <td>United States</td>\n",
       "      <td>1938-11-26</td>\n",
       "      <td>107.59</td>\n",
       "      <td>63</td>\n",
       "      <td>19.1</td>\n",
       "      <td>330-202-2145</td>\n",
       "      <td>CamillaZaitseva@superrito.com</td>\n",
       "    </tr>\n",
       "  </tbody>\n",
       "</table>\n",
       "</div>"
      ],
      "text/plain": [
       "     patient_id assigned_sex given_name   surname              address  \\\n",
       "210         211       female    camilla  zaitseva  4689 Briarhill Lane   \n",
       "\n",
       "        city state zip_code        country  birthdate  weight  height   bmi  \\\n",
       "210  Wooster    OH    44691  United States 1938-11-26  107.59      63  19.1   \n",
       "\n",
       "     phone_number                          email  \n",
       "210  330-202-2145  CamillaZaitseva@superrito.com  "
      ]
     },
     "execution_count": 57,
     "metadata": {},
     "output_type": "execute_result"
    }
   ],
   "source": [
    "# Confirm wrong weight already fixed\n",
    "\n",
    "patients_clean[patients_clean.surname == \"zaitseva\"]"
   ]
  },
  {
   "cell_type": "markdown",
   "metadata": {},
   "source": [
    "#### 5. Tim Neudorf hight 27 instead of 72."
   ]
  },
  {
   "cell_type": "markdown",
   "metadata": {},
   "source": [
    "##### Solution\n",
    "* Replace wrong height 27 with 72"
   ]
  },
  {
   "cell_type": "markdown",
   "metadata": {},
   "source": [
    "##### Code"
   ]
  },
  {
   "cell_type": "code",
   "execution_count": 58,
   "metadata": {},
   "outputs": [],
   "source": [
    "# Replace wrong height\n",
    "\n",
    "wrong_height = patients_clean.height.min()\n",
    "mask1 = patients_clean.surname == \"neudorf\"\n",
    "patients_clean.loc[mask1,\"height\"] = 72"
   ]
  },
  {
   "cell_type": "markdown",
   "metadata": {},
   "source": [
    "##### Test"
   ]
  },
  {
   "cell_type": "code",
   "execution_count": 59,
   "metadata": {},
   "outputs": [
    {
     "data": {
      "text/html": [
       "<div>\n",
       "<style scoped>\n",
       "    .dataframe tbody tr th:only-of-type {\n",
       "        vertical-align: middle;\n",
       "    }\n",
       "\n",
       "    .dataframe tbody tr th {\n",
       "        vertical-align: top;\n",
       "    }\n",
       "\n",
       "    .dataframe thead th {\n",
       "        text-align: right;\n",
       "    }\n",
       "</style>\n",
       "<table border=\"1\" class=\"dataframe\">\n",
       "  <thead>\n",
       "    <tr style=\"text-align: right;\">\n",
       "      <th></th>\n",
       "      <th>patient_id</th>\n",
       "      <th>assigned_sex</th>\n",
       "      <th>given_name</th>\n",
       "      <th>surname</th>\n",
       "      <th>address</th>\n",
       "      <th>city</th>\n",
       "      <th>state</th>\n",
       "      <th>zip_code</th>\n",
       "      <th>country</th>\n",
       "      <th>birthdate</th>\n",
       "      <th>weight</th>\n",
       "      <th>height</th>\n",
       "      <th>bmi</th>\n",
       "      <th>phone_number</th>\n",
       "      <th>email</th>\n",
       "    </tr>\n",
       "  </thead>\n",
       "  <tbody>\n",
       "    <tr>\n",
       "      <th>4</th>\n",
       "      <td>5</td>\n",
       "      <td>male</td>\n",
       "      <td>tim</td>\n",
       "      <td>neudorf</td>\n",
       "      <td>1428 Turkey Pen Lane</td>\n",
       "      <td>Dothan</td>\n",
       "      <td>AL</td>\n",
       "      <td>36303</td>\n",
       "      <td>United States</td>\n",
       "      <td>1928-02-18</td>\n",
       "      <td>192.3</td>\n",
       "      <td>72</td>\n",
       "      <td>26.1</td>\n",
       "      <td>334-515-7487</td>\n",
       "      <td>TimNeudorf@cuvox.de</td>\n",
       "    </tr>\n",
       "  </tbody>\n",
       "</table>\n",
       "</div>"
      ],
      "text/plain": [
       "   patient_id assigned_sex given_name  surname               address    city  \\\n",
       "4           5         male        tim  neudorf  1428 Turkey Pen Lane  Dothan   \n",
       "\n",
       "  state zip_code        country  birthdate  weight  height   bmi  \\\n",
       "4    AL    36303  United States 1928-02-18   192.3      72  26.1   \n",
       "\n",
       "   phone_number                email  \n",
       "4  334-515-7487  TimNeudorf@cuvox.de  "
      ]
     },
     "execution_count": 59,
     "metadata": {},
     "output_type": "execute_result"
    }
   ],
   "source": [
    "# Confirm wrong height already fixed\n",
    "\n",
    "patients_clean[patients_clean.surname == \"neudorf\"]"
   ]
  },
  {
   "cell_type": "markdown",
   "metadata": {},
   "source": [
    "#### 6. contact has multiple phone number formats."
   ]
  },
  {
   "cell_type": "markdown",
   "metadata": {},
   "source": [
    "##### Solution\n",
    "* Remove all `\"+\", \"(\", \"-\", \")\", \" \"` symboles using `.replace` method.\n",
    "* Make all numbers start with 1 because all phone numbers indside US using `.str.pad` method"
   ]
  },
  {
   "cell_type": "markdown",
   "metadata": {},
   "source": [
    "##### Code"
   ]
  },
  {
   "cell_type": "code",
   "execution_count": 60,
   "metadata": {},
   "outputs": [],
   "source": [
    "# Remove unwanted symboles and add 1 to begining of all numbers\n",
    "\n",
    "patients_clean.phone_number = patients_clean.phone_number.str.replace(r'\\D+', '', regex=True).str.pad(11, fillchar='1')"
   ]
  },
  {
   "cell_type": "markdown",
   "metadata": {},
   "source": [
    "##### Test"
   ]
  },
  {
   "cell_type": "code",
   "execution_count": 61,
   "metadata": {},
   "outputs": [
    {
     "data": {
      "text/plain": [
       "251    11234567890\n",
       "277    11234567890\n",
       "244    11234567890\n",
       "237    11234567890\n",
       "215    11234567890\n",
       "          ...     \n",
       "264            NaN\n",
       "269            NaN\n",
       "278            NaN\n",
       "286            NaN\n",
       "296            NaN\n",
       "Name: phone_number, Length: 503, dtype: object"
      ]
     },
     "execution_count": 61,
     "metadata": {},
     "output_type": "execute_result"
    }
   ],
   "source": [
    "# Confirm changes already done\n",
    "\n",
    "patients_clean.phone_number.sort_values()"
   ]
  },
  {
   "cell_type": "markdown",
   "metadata": {},
   "source": [
    "#### 7. there's 5 duplicated rows for John Doe."
   ]
  },
  {
   "cell_type": "markdown",
   "metadata": {},
   "source": [
    "##### Solution\n",
    "* Remove duplicated values for John Doe using `.drop` method"
   ]
  },
  {
   "cell_type": "markdown",
   "metadata": {},
   "source": [
    "##### Code"
   ]
  },
  {
   "cell_type": "code",
   "execution_count": 62,
   "metadata": {},
   "outputs": [],
   "source": [
    "# Remove duplicated values for John Doe\n",
    "\n",
    "duplicated_john = patients_clean[patients_clean.surname==\"doe\"]\n",
    "patients_clean.drop(duplicated_john.index[1:], inplace=True)"
   ]
  },
  {
   "cell_type": "markdown",
   "metadata": {},
   "source": [
    "##### Test"
   ]
  },
  {
   "cell_type": "code",
   "execution_count": 63,
   "metadata": {},
   "outputs": [
    {
     "data": {
      "text/html": [
       "<div>\n",
       "<style scoped>\n",
       "    .dataframe tbody tr th:only-of-type {\n",
       "        vertical-align: middle;\n",
       "    }\n",
       "\n",
       "    .dataframe tbody tr th {\n",
       "        vertical-align: top;\n",
       "    }\n",
       "\n",
       "    .dataframe thead th {\n",
       "        text-align: right;\n",
       "    }\n",
       "</style>\n",
       "<table border=\"1\" class=\"dataframe\">\n",
       "  <thead>\n",
       "    <tr style=\"text-align: right;\">\n",
       "      <th></th>\n",
       "      <th>patient_id</th>\n",
       "      <th>assigned_sex</th>\n",
       "      <th>given_name</th>\n",
       "      <th>surname</th>\n",
       "      <th>address</th>\n",
       "      <th>city</th>\n",
       "      <th>state</th>\n",
       "      <th>zip_code</th>\n",
       "      <th>country</th>\n",
       "      <th>birthdate</th>\n",
       "      <th>weight</th>\n",
       "      <th>height</th>\n",
       "      <th>bmi</th>\n",
       "      <th>phone_number</th>\n",
       "      <th>email</th>\n",
       "    </tr>\n",
       "  </thead>\n",
       "  <tbody>\n",
       "    <tr>\n",
       "      <th>215</th>\n",
       "      <td>216</td>\n",
       "      <td>male</td>\n",
       "      <td>john</td>\n",
       "      <td>doe</td>\n",
       "      <td>123 Main Street</td>\n",
       "      <td>New York</td>\n",
       "      <td>NY</td>\n",
       "      <td>12345</td>\n",
       "      <td>United States</td>\n",
       "      <td>1975-01-01</td>\n",
       "      <td>180.0</td>\n",
       "      <td>72</td>\n",
       "      <td>24.4</td>\n",
       "      <td>11234567890</td>\n",
       "      <td>johndoe@email.com</td>\n",
       "    </tr>\n",
       "  </tbody>\n",
       "</table>\n",
       "</div>"
      ],
      "text/plain": [
       "     patient_id assigned_sex given_name surname          address      city  \\\n",
       "215         216         male       john     doe  123 Main Street  New York   \n",
       "\n",
       "    state zip_code        country  birthdate  weight  height   bmi  \\\n",
       "215    NY    12345  United States 1975-01-01   180.0      72  24.4   \n",
       "\n",
       "    phone_number              email  \n",
       "215  11234567890  johndoe@email.com  "
      ]
     },
     "execution_count": 63,
     "metadata": {},
     "output_type": "execute_result"
    }
   ],
   "source": [
    "# Confirm all duplicates for john doe already dropped\n",
    "\n",
    "patients_clean[patients_clean.surname==\"doe\"]"
   ]
  },
  {
   "cell_type": "markdown",
   "metadata": {},
   "source": [
    "# _____________________________________________\n"
   ]
  },
  {
   "cell_type": "markdown",
   "metadata": {},
   "source": [
    "#### 8. there's duplicated values for Jakob Jakobsen, Sandra Taylor and Patrick Gersten."
   ]
  },
  {
   "cell_type": "markdown",
   "metadata": {},
   "source": [
    "##### Solution\n",
    "* Remove all records with duplicated address without remove records with address value `NaN` "
   ]
  },
  {
   "cell_type": "markdown",
   "metadata": {},
   "source": [
    "##### Code"
   ]
  },
  {
   "cell_type": "code",
   "execution_count": 64,
   "metadata": {},
   "outputs": [
    {
     "data": {
      "text/html": [
       "<div>\n",
       "<style scoped>\n",
       "    .dataframe tbody tr th:only-of-type {\n",
       "        vertical-align: middle;\n",
       "    }\n",
       "\n",
       "    .dataframe tbody tr th {\n",
       "        vertical-align: top;\n",
       "    }\n",
       "\n",
       "    .dataframe thead th {\n",
       "        text-align: right;\n",
       "    }\n",
       "</style>\n",
       "<table border=\"1\" class=\"dataframe\">\n",
       "  <thead>\n",
       "    <tr style=\"text-align: right;\">\n",
       "      <th></th>\n",
       "      <th>patient_id</th>\n",
       "      <th>assigned_sex</th>\n",
       "      <th>given_name</th>\n",
       "      <th>surname</th>\n",
       "      <th>address</th>\n",
       "      <th>city</th>\n",
       "      <th>state</th>\n",
       "      <th>zip_code</th>\n",
       "      <th>country</th>\n",
       "      <th>birthdate</th>\n",
       "      <th>weight</th>\n",
       "      <th>height</th>\n",
       "      <th>bmi</th>\n",
       "      <th>phone_number</th>\n",
       "      <th>email</th>\n",
       "    </tr>\n",
       "  </thead>\n",
       "  <tbody>\n",
       "    <tr>\n",
       "      <th>24</th>\n",
       "      <td>25</td>\n",
       "      <td>male</td>\n",
       "      <td>jakob</td>\n",
       "      <td>jakobsen</td>\n",
       "      <td>648 Old Dear Lane</td>\n",
       "      <td>Port Jervis</td>\n",
       "      <td>NY</td>\n",
       "      <td>12771</td>\n",
       "      <td>United States</td>\n",
       "      <td>1985-08-01</td>\n",
       "      <td>155.8</td>\n",
       "      <td>67</td>\n",
       "      <td>24.4</td>\n",
       "      <td>18458587707</td>\n",
       "      <td>JakobCJakobsen@einrot.com</td>\n",
       "    </tr>\n",
       "    <tr>\n",
       "      <th>29</th>\n",
       "      <td>30</td>\n",
       "      <td>male</td>\n",
       "      <td>jake</td>\n",
       "      <td>jakobsen</td>\n",
       "      <td>648 Old Dear Lane</td>\n",
       "      <td>Port Jervis</td>\n",
       "      <td>NY</td>\n",
       "      <td>12771</td>\n",
       "      <td>United States</td>\n",
       "      <td>1985-08-01</td>\n",
       "      <td>155.8</td>\n",
       "      <td>67</td>\n",
       "      <td>24.4</td>\n",
       "      <td>18458587707</td>\n",
       "      <td>JakobCJakobsen@einrot.com</td>\n",
       "    </tr>\n",
       "    <tr>\n",
       "      <th>97</th>\n",
       "      <td>98</td>\n",
       "      <td>male</td>\n",
       "      <td>patrick</td>\n",
       "      <td>gersten</td>\n",
       "      <td>2778 North Avenue</td>\n",
       "      <td>Burr</td>\n",
       "      <td>NE</td>\n",
       "      <td>68324</td>\n",
       "      <td>United States</td>\n",
       "      <td>1954-05-03</td>\n",
       "      <td>138.2</td>\n",
       "      <td>71</td>\n",
       "      <td>19.3</td>\n",
       "      <td>14028484923</td>\n",
       "      <td>PatrickGersten@rhyta.com</td>\n",
       "    </tr>\n",
       "    <tr>\n",
       "      <th>131</th>\n",
       "      <td>132</td>\n",
       "      <td>female</td>\n",
       "      <td>sandra</td>\n",
       "      <td>taylor</td>\n",
       "      <td>2476 Fulton Street</td>\n",
       "      <td>Rainelle</td>\n",
       "      <td>WV</td>\n",
       "      <td>25962</td>\n",
       "      <td>United States</td>\n",
       "      <td>1960-10-23</td>\n",
       "      <td>206.1</td>\n",
       "      <td>64</td>\n",
       "      <td>35.4</td>\n",
       "      <td>13044382648</td>\n",
       "      <td>SandraCTaylor@dayrep.com</td>\n",
       "    </tr>\n",
       "    <tr>\n",
       "      <th>282</th>\n",
       "      <td>283</td>\n",
       "      <td>female</td>\n",
       "      <td>sandy</td>\n",
       "      <td>taylor</td>\n",
       "      <td>2476 Fulton Street</td>\n",
       "      <td>Rainelle</td>\n",
       "      <td>WV</td>\n",
       "      <td>25962</td>\n",
       "      <td>United States</td>\n",
       "      <td>1960-10-23</td>\n",
       "      <td>206.1</td>\n",
       "      <td>64</td>\n",
       "      <td>35.4</td>\n",
       "      <td>13044382648</td>\n",
       "      <td>SandraCTaylor@dayrep.com</td>\n",
       "    </tr>\n",
       "    <tr>\n",
       "      <th>502</th>\n",
       "      <td>503</td>\n",
       "      <td>male</td>\n",
       "      <td>pat</td>\n",
       "      <td>gersten</td>\n",
       "      <td>2778 North Avenue</td>\n",
       "      <td>Burr</td>\n",
       "      <td>NE</td>\n",
       "      <td>68324</td>\n",
       "      <td>United States</td>\n",
       "      <td>1954-05-03</td>\n",
       "      <td>138.2</td>\n",
       "      <td>71</td>\n",
       "      <td>19.3</td>\n",
       "      <td>14028484923</td>\n",
       "      <td>PatrickGersten@rhyta.com</td>\n",
       "    </tr>\n",
       "  </tbody>\n",
       "</table>\n",
       "</div>"
      ],
      "text/plain": [
       "     patient_id assigned_sex given_name   surname             address  \\\n",
       "24           25         male      jakob  jakobsen   648 Old Dear Lane   \n",
       "29           30         male       jake  jakobsen   648 Old Dear Lane   \n",
       "97           98         male    patrick   gersten   2778 North Avenue   \n",
       "131         132       female     sandra    taylor  2476 Fulton Street   \n",
       "282         283       female      sandy    taylor  2476 Fulton Street   \n",
       "502         503         male        pat   gersten   2778 North Avenue   \n",
       "\n",
       "            city state zip_code        country  birthdate  weight  height  \\\n",
       "24   Port Jervis    NY    12771  United States 1985-08-01   155.8      67   \n",
       "29   Port Jervis    NY    12771  United States 1985-08-01   155.8      67   \n",
       "97          Burr    NE    68324  United States 1954-05-03   138.2      71   \n",
       "131     Rainelle    WV    25962  United States 1960-10-23   206.1      64   \n",
       "282     Rainelle    WV    25962  United States 1960-10-23   206.1      64   \n",
       "502         Burr    NE    68324  United States 1954-05-03   138.2      71   \n",
       "\n",
       "      bmi phone_number                      email  \n",
       "24   24.4  18458587707  JakobCJakobsen@einrot.com  \n",
       "29   24.4  18458587707  JakobCJakobsen@einrot.com  \n",
       "97   19.3  14028484923   PatrickGersten@rhyta.com  \n",
       "131  35.4  13044382648   SandraCTaylor@dayrep.com  \n",
       "282  35.4  13044382648   SandraCTaylor@dayrep.com  \n",
       "502  19.3  14028484923   PatrickGersten@rhyta.com  "
      ]
     },
     "execution_count": 64,
     "metadata": {},
     "output_type": "execute_result"
    }
   ],
   "source": [
    "#check duplicated records with same address and differences between them.\n",
    "\n",
    "duplicated_records = patients_clean[(patients_clean.address.duplicated(keep=False))&(patients_clean.address.notnull())]\n",
    "duplicated_records"
   ]
  },
  {
   "cell_type": "code",
   "execution_count": 65,
   "metadata": {},
   "outputs": [],
   "source": [
    "# Drop dupliactes \n",
    "\n",
    "patients_clean.drop(duplicated_records.index[[1,4,5]],inplace=True)"
   ]
  },
  {
   "cell_type": "markdown",
   "metadata": {},
   "source": [
    "##### Test"
   ]
  },
  {
   "cell_type": "code",
   "execution_count": 66,
   "metadata": {},
   "outputs": [
    {
     "data": {
      "text/html": [
       "<div>\n",
       "<style scoped>\n",
       "    .dataframe tbody tr th:only-of-type {\n",
       "        vertical-align: middle;\n",
       "    }\n",
       "\n",
       "    .dataframe tbody tr th {\n",
       "        vertical-align: top;\n",
       "    }\n",
       "\n",
       "    .dataframe thead th {\n",
       "        text-align: right;\n",
       "    }\n",
       "</style>\n",
       "<table border=\"1\" class=\"dataframe\">\n",
       "  <thead>\n",
       "    <tr style=\"text-align: right;\">\n",
       "      <th></th>\n",
       "      <th>patient_id</th>\n",
       "      <th>assigned_sex</th>\n",
       "      <th>given_name</th>\n",
       "      <th>surname</th>\n",
       "      <th>address</th>\n",
       "      <th>city</th>\n",
       "      <th>state</th>\n",
       "      <th>zip_code</th>\n",
       "      <th>country</th>\n",
       "      <th>birthdate</th>\n",
       "      <th>weight</th>\n",
       "      <th>height</th>\n",
       "      <th>bmi</th>\n",
       "      <th>phone_number</th>\n",
       "      <th>email</th>\n",
       "    </tr>\n",
       "  </thead>\n",
       "  <tbody>\n",
       "  </tbody>\n",
       "</table>\n",
       "</div>"
      ],
      "text/plain": [
       "Empty DataFrame\n",
       "Columns: [patient_id, assigned_sex, given_name, surname, address, city, state, zip_code, country, birthdate, weight, height, bmi, phone_number, email]\n",
       "Index: []"
      ]
     },
     "execution_count": 66,
     "metadata": {},
     "output_type": "execute_result"
    }
   ],
   "source": [
    "#confirm all duplicated values already removed \n",
    "\n",
    "patients_clean[(patients_clean.address.duplicated())&(patients_clean.address.notnull())]"
   ]
  },
  {
   "cell_type": "markdown",
   "metadata": {},
   "source": [
    "#### 9. Letter u in end of starting and ending dose for auralin and novodra. "
   ]
  },
  {
   "cell_type": "markdown",
   "metadata": {},
   "source": [
    "##### Solution\n",
    "* Removing \"u\" letter from start_dose and end_does using `.split` method and `lambda` function"
   ]
  },
  {
   "cell_type": "markdown",
   "metadata": {},
   "source": [
    "##### Code"
   ]
  },
  {
   "cell_type": "code",
   "execution_count": 67,
   "metadata": {},
   "outputs": [],
   "source": [
    "#Removing \"u\" letter \n",
    "\n",
    "treatments_clean[\"start_does\"] = treatments_clean.start_does.apply(lambda x: x.split(\"u\")[0]) \n",
    "treatments_clean[\"end_does\"] = treatments_clean.end_does.apply(lambda x: x.split(\"u\")[0])"
   ]
  },
  {
   "cell_type": "markdown",
   "metadata": {},
   "source": [
    "##### Test"
   ]
  },
  {
   "cell_type": "code",
   "execution_count": 68,
   "metadata": {},
   "outputs": [
    {
     "data": {
      "text/html": [
       "<div>\n",
       "<style scoped>\n",
       "    .dataframe tbody tr th:only-of-type {\n",
       "        vertical-align: middle;\n",
       "    }\n",
       "\n",
       "    .dataframe tbody tr th {\n",
       "        vertical-align: top;\n",
       "    }\n",
       "\n",
       "    .dataframe thead th {\n",
       "        text-align: right;\n",
       "    }\n",
       "</style>\n",
       "<table border=\"1\" class=\"dataframe\">\n",
       "  <thead>\n",
       "    <tr style=\"text-align: right;\">\n",
       "      <th></th>\n",
       "      <th>patient_id</th>\n",
       "      <th>hba1c_start</th>\n",
       "      <th>hba1c_end</th>\n",
       "      <th>hba1c_change</th>\n",
       "      <th>treatment</th>\n",
       "      <th>start_does</th>\n",
       "      <th>end_does</th>\n",
       "      <th>adverse_reaction</th>\n",
       "    </tr>\n",
       "  </thead>\n",
       "  <tbody>\n",
       "    <tr>\n",
       "      <th>4</th>\n",
       "      <td>15</td>\n",
       "      <td>7.76</td>\n",
       "      <td>7.37</td>\n",
       "      <td>0.39</td>\n",
       "      <td>auralin</td>\n",
       "      <td>30</td>\n",
       "      <td>36</td>\n",
       "      <td>NaN</td>\n",
       "    </tr>\n",
       "    <tr>\n",
       "      <th>91</th>\n",
       "      <td>361</td>\n",
       "      <td>7.82</td>\n",
       "      <td>7.28</td>\n",
       "      <td>0.54</td>\n",
       "      <td>auralin</td>\n",
       "      <td>41</td>\n",
       "      <td>50</td>\n",
       "      <td>NaN</td>\n",
       "    </tr>\n",
       "    <tr>\n",
       "      <th>341</th>\n",
       "      <td>450</td>\n",
       "      <td>7.99</td>\n",
       "      <td>7.70</td>\n",
       "      <td>0.29</td>\n",
       "      <td>novodra</td>\n",
       "      <td>36</td>\n",
       "      <td>33</td>\n",
       "      <td>NaN</td>\n",
       "    </tr>\n",
       "    <tr>\n",
       "      <th>301</th>\n",
       "      <td>239</td>\n",
       "      <td>9.62</td>\n",
       "      <td>9.29</td>\n",
       "      <td>0.33</td>\n",
       "      <td>novodra</td>\n",
       "      <td>42</td>\n",
       "      <td>38</td>\n",
       "      <td>NaN</td>\n",
       "    </tr>\n",
       "    <tr>\n",
       "      <th>207</th>\n",
       "      <td>134</td>\n",
       "      <td>7.60</td>\n",
       "      <td>7.28</td>\n",
       "      <td>0.32</td>\n",
       "      <td>novodra</td>\n",
       "      <td>41</td>\n",
       "      <td>36</td>\n",
       "      <td>NaN</td>\n",
       "    </tr>\n",
       "  </tbody>\n",
       "</table>\n",
       "</div>"
      ],
      "text/plain": [
       "     patient_id  hba1c_start  hba1c_end  hba1c_change treatment start_does  \\\n",
       "4            15         7.76       7.37          0.39   auralin         30   \n",
       "91          361         7.82       7.28          0.54   auralin         41   \n",
       "341         450         7.99       7.70          0.29   novodra         36   \n",
       "301         239         9.62       9.29          0.33   novodra         42   \n",
       "207         134         7.60       7.28          0.32   novodra         41   \n",
       "\n",
       "    end_does adverse_reaction  \n",
       "4         36              NaN  \n",
       "91        50              NaN  \n",
       "341       33              NaN  \n",
       "301       38              NaN  \n",
       "207       36              NaN  "
      ]
     },
     "execution_count": 68,
     "metadata": {},
     "output_type": "execute_result"
    }
   ],
   "source": [
    "treatments_clean.sample(5)"
   ]
  },
  {
   "cell_type": "markdown",
   "metadata": {},
   "source": [
    "#### 10.  Auralin and novodra is string not float.\n"
   ]
  },
  {
   "cell_type": "markdown",
   "metadata": {},
   "source": [
    "##### Solution\n",
    "* Change  start_does and start_does columns type to float using `.astype` method."
   ]
  },
  {
   "cell_type": "markdown",
   "metadata": {},
   "source": [
    "##### Code"
   ]
  },
  {
   "cell_type": "code",
   "execution_count": 69,
   "metadata": {},
   "outputs": [],
   "source": [
    "# Change start_does and start_does type to float\n",
    "\n",
    "treatments_clean.start_does = treatments_clean.start_does.astype(float)\n",
    "treatments_clean.end_does = treatments_clean.end_does.astype(float)"
   ]
  },
  {
   "cell_type": "markdown",
   "metadata": {},
   "source": [
    "##### Test"
   ]
  },
  {
   "cell_type": "code",
   "execution_count": 70,
   "metadata": {},
   "outputs": [
    {
     "data": {
      "text/html": [
       "<div>\n",
       "<style scoped>\n",
       "    .dataframe tbody tr th:only-of-type {\n",
       "        vertical-align: middle;\n",
       "    }\n",
       "\n",
       "    .dataframe tbody tr th {\n",
       "        vertical-align: top;\n",
       "    }\n",
       "\n",
       "    .dataframe thead th {\n",
       "        text-align: right;\n",
       "    }\n",
       "</style>\n",
       "<table border=\"1\" class=\"dataframe\">\n",
       "  <thead>\n",
       "    <tr style=\"text-align: right;\">\n",
       "      <th></th>\n",
       "      <th>patient_id</th>\n",
       "      <th>hba1c_start</th>\n",
       "      <th>hba1c_end</th>\n",
       "      <th>hba1c_change</th>\n",
       "      <th>treatment</th>\n",
       "      <th>start_does</th>\n",
       "      <th>end_does</th>\n",
       "      <th>adverse_reaction</th>\n",
       "    </tr>\n",
       "  </thead>\n",
       "  <tbody>\n",
       "    <tr>\n",
       "      <th>314</th>\n",
       "      <td>434</td>\n",
       "      <td>7.74</td>\n",
       "      <td>7.36</td>\n",
       "      <td>0.38</td>\n",
       "      <td>novodra</td>\n",
       "      <td>30.0</td>\n",
       "      <td>33.0</td>\n",
       "      <td>NaN</td>\n",
       "    </tr>\n",
       "    <tr>\n",
       "      <th>309</th>\n",
       "      <td>365</td>\n",
       "      <td>7.95</td>\n",
       "      <td>7.56</td>\n",
       "      <td>0.39</td>\n",
       "      <td>novodra</td>\n",
       "      <td>41.0</td>\n",
       "      <td>39.0</td>\n",
       "      <td>NaN</td>\n",
       "    </tr>\n",
       "    <tr>\n",
       "      <th>283</th>\n",
       "      <td>495</td>\n",
       "      <td>8.90</td>\n",
       "      <td>8.59</td>\n",
       "      <td>0.31</td>\n",
       "      <td>novodra</td>\n",
       "      <td>26.0</td>\n",
       "      <td>24.0</td>\n",
       "      <td>NaN</td>\n",
       "    </tr>\n",
       "    <tr>\n",
       "      <th>62</th>\n",
       "      <td>78</td>\n",
       "      <td>9.01</td>\n",
       "      <td>8.63</td>\n",
       "      <td>0.38</td>\n",
       "      <td>auralin</td>\n",
       "      <td>31.0</td>\n",
       "      <td>40.0</td>\n",
       "      <td>NaN</td>\n",
       "    </tr>\n",
       "    <tr>\n",
       "      <th>158</th>\n",
       "      <td>159</td>\n",
       "      <td>7.64</td>\n",
       "      <td>7.29</td>\n",
       "      <td>0.35</td>\n",
       "      <td>auralin</td>\n",
       "      <td>28.0</td>\n",
       "      <td>33.0</td>\n",
       "      <td>NaN</td>\n",
       "    </tr>\n",
       "  </tbody>\n",
       "</table>\n",
       "</div>"
      ],
      "text/plain": [
       "     patient_id  hba1c_start  hba1c_end  hba1c_change treatment  start_does  \\\n",
       "314         434         7.74       7.36          0.38   novodra        30.0   \n",
       "309         365         7.95       7.56          0.39   novodra        41.0   \n",
       "283         495         8.90       8.59          0.31   novodra        26.0   \n",
       "62           78         9.01       8.63          0.38   auralin        31.0   \n",
       "158         159         7.64       7.29          0.35   auralin        28.0   \n",
       "\n",
       "     end_does adverse_reaction  \n",
       "314      33.0              NaN  \n",
       "309      39.0              NaN  \n",
       "283      24.0              NaN  \n",
       "62       40.0              NaN  \n",
       "158      33.0              NaN  "
      ]
     },
     "execution_count": 70,
     "metadata": {},
     "output_type": "execute_result"
    }
   ],
   "source": [
    "treatments_clean.sample(5)"
   ]
  },
  {
   "cell_type": "code",
   "execution_count": 71,
   "metadata": {},
   "outputs": [
    {
     "name": "stdout",
     "output_type": "stream",
     "text": [
      "<class 'pandas.core.frame.DataFrame'>\n",
      "Int64Index: 349 entries, 0 to 348\n",
      "Data columns (total 8 columns):\n",
      " #   Column            Non-Null Count  Dtype  \n",
      "---  ------            --------------  -----  \n",
      " 0   patient_id        349 non-null    int64  \n",
      " 1   hba1c_start       349 non-null    float64\n",
      " 2   hba1c_end         349 non-null    float64\n",
      " 3   hba1c_change      349 non-null    float64\n",
      " 4   treatment         349 non-null    object \n",
      " 5   start_does        349 non-null    float64\n",
      " 6   end_does          349 non-null    float64\n",
      " 7   adverse_reaction  35 non-null     object \n",
      "dtypes: float64(5), int64(1), object(2)\n",
      "memory usage: 24.5+ KB\n"
     ]
    }
   ],
   "source": [
    "treatments_clean.info()"
   ]
  },
  {
   "cell_type": "markdown",
   "metadata": {},
   "source": [
    "#### 11.  There's no column for does change.\n"
   ]
  },
  {
   "cell_type": "markdown",
   "metadata": {},
   "source": [
    "##### Solution\n",
    "* Make new column \"dose_change\" = stadt_dose - end_dose "
   ]
  },
  {
   "cell_type": "markdown",
   "metadata": {},
   "source": [
    "##### Code"
   ]
  },
  {
   "cell_type": "code",
   "execution_count": 72,
   "metadata": {},
   "outputs": [],
   "source": [
    "# Change start_does and start_does type to float\n",
    "\n",
    "treatments_clean[\"dose_change\"] = treatments_clean.start_does -  treatments_clean.end_does"
   ]
  },
  {
   "cell_type": "markdown",
   "metadata": {},
   "source": [
    "##### Test"
   ]
  },
  {
   "cell_type": "code",
   "execution_count": 73,
   "metadata": {},
   "outputs": [
    {
     "data": {
      "text/html": [
       "<div>\n",
       "<style scoped>\n",
       "    .dataframe tbody tr th:only-of-type {\n",
       "        vertical-align: middle;\n",
       "    }\n",
       "\n",
       "    .dataframe tbody tr th {\n",
       "        vertical-align: top;\n",
       "    }\n",
       "\n",
       "    .dataframe thead th {\n",
       "        text-align: right;\n",
       "    }\n",
       "</style>\n",
       "<table border=\"1\" class=\"dataframe\">\n",
       "  <thead>\n",
       "    <tr style=\"text-align: right;\">\n",
       "      <th></th>\n",
       "      <th>patient_id</th>\n",
       "      <th>hba1c_start</th>\n",
       "      <th>hba1c_end</th>\n",
       "      <th>hba1c_change</th>\n",
       "      <th>treatment</th>\n",
       "      <th>start_does</th>\n",
       "      <th>end_does</th>\n",
       "      <th>adverse_reaction</th>\n",
       "      <th>dose_change</th>\n",
       "    </tr>\n",
       "  </thead>\n",
       "  <tbody>\n",
       "    <tr>\n",
       "      <th>10</th>\n",
       "      <td>211</td>\n",
       "      <td>7.53</td>\n",
       "      <td>7.13</td>\n",
       "      <td>0.40</td>\n",
       "      <td>auralin</td>\n",
       "      <td>28.0</td>\n",
       "      <td>37.0</td>\n",
       "      <td>NaN</td>\n",
       "      <td>-9.0</td>\n",
       "    </tr>\n",
       "    <tr>\n",
       "      <th>338</th>\n",
       "      <td>68</td>\n",
       "      <td>7.78</td>\n",
       "      <td>7.39</td>\n",
       "      <td>0.39</td>\n",
       "      <td>novodra</td>\n",
       "      <td>37.0</td>\n",
       "      <td>39.0</td>\n",
       "      <td>NaN</td>\n",
       "      <td>-2.0</td>\n",
       "    </tr>\n",
       "    <tr>\n",
       "      <th>153</th>\n",
       "      <td>58</td>\n",
       "      <td>7.90</td>\n",
       "      <td>7.59</td>\n",
       "      <td>0.31</td>\n",
       "      <td>auralin</td>\n",
       "      <td>30.0</td>\n",
       "      <td>38.0</td>\n",
       "      <td>NaN</td>\n",
       "      <td>-8.0</td>\n",
       "    </tr>\n",
       "    <tr>\n",
       "      <th>242</th>\n",
       "      <td>271</td>\n",
       "      <td>7.50</td>\n",
       "      <td>7.08</td>\n",
       "      <td>0.42</td>\n",
       "      <td>novodra</td>\n",
       "      <td>22.0</td>\n",
       "      <td>23.0</td>\n",
       "      <td>NaN</td>\n",
       "      <td>-1.0</td>\n",
       "    </tr>\n",
       "    <tr>\n",
       "      <th>194</th>\n",
       "      <td>254</td>\n",
       "      <td>7.52</td>\n",
       "      <td>7.01</td>\n",
       "      <td>0.51</td>\n",
       "      <td>novodra</td>\n",
       "      <td>32.0</td>\n",
       "      <td>27.0</td>\n",
       "      <td>hypoglycemia</td>\n",
       "      <td>5.0</td>\n",
       "    </tr>\n",
       "  </tbody>\n",
       "</table>\n",
       "</div>"
      ],
      "text/plain": [
       "     patient_id  hba1c_start  hba1c_end  hba1c_change treatment  start_does  \\\n",
       "10          211         7.53       7.13          0.40   auralin        28.0   \n",
       "338          68         7.78       7.39          0.39   novodra        37.0   \n",
       "153          58         7.90       7.59          0.31   auralin        30.0   \n",
       "242         271         7.50       7.08          0.42   novodra        22.0   \n",
       "194         254         7.52       7.01          0.51   novodra        32.0   \n",
       "\n",
       "     end_does adverse_reaction  dose_change  \n",
       "10       37.0              NaN         -9.0  \n",
       "338      39.0              NaN         -2.0  \n",
       "153      38.0              NaN         -8.0  \n",
       "242      23.0              NaN         -1.0  \n",
       "194      27.0     hypoglycemia          5.0  "
      ]
     },
     "execution_count": 73,
     "metadata": {},
     "output_type": "execute_result"
    }
   ],
   "source": [
    "treatments_clean.sample(5)"
   ]
  },
  {
   "cell_type": "markdown",
   "metadata": {},
   "source": [
    "#### 12. there's 1 duplicated row for Joseph Day."
   ]
  },
  {
   "cell_type": "markdown",
   "metadata": {},
   "source": [
    "##### Solution\n",
    "* Remove duplicated values using `.drop_duplicates` method."
   ]
  },
  {
   "cell_type": "markdown",
   "metadata": {},
   "source": [
    "##### Code"
   ]
  },
  {
   "cell_type": "code",
   "execution_count": 74,
   "metadata": {},
   "outputs": [
    {
     "data": {
      "text/plain": [
       "1"
      ]
     },
     "execution_count": 74,
     "metadata": {},
     "output_type": "execute_result"
    }
   ],
   "source": [
    "#Check for number of duplicates \n",
    "\n",
    "treatments_clean.duplicated().sum()"
   ]
  },
  {
   "cell_type": "code",
   "execution_count": 75,
   "metadata": {},
   "outputs": [],
   "source": [
    "# Remove duplicated values\n",
    "\n",
    "treatments_clean.drop_duplicates(inplace=True)"
   ]
  },
  {
   "cell_type": "markdown",
   "metadata": {},
   "source": [
    "##### Test"
   ]
  },
  {
   "cell_type": "code",
   "execution_count": 76,
   "metadata": {},
   "outputs": [
    {
     "data": {
      "text/plain": [
       "0"
      ]
     },
     "execution_count": 76,
     "metadata": {},
     "output_type": "execute_result"
    }
   ],
   "source": [
    "# Confirm duplicates already dropped\n",
    "\n",
    "treatments_clean.duplicated().sum()"
   ]
  },
  {
   "cell_type": "markdown",
   "metadata": {},
   "source": [
    "<a id='eda'></a>\n",
    "## AB Test\n",
    "\n",
    "- **hba1c_change**: the change in the patient's HbA1c level from the start of treatment to the end, i.e., `hba1c_start` - `hba1c_end`. For Auralin to be deemed effective, it must be \"noninferior\" to Novodra, the current standard for insulin. This \"noninferiority\" is statistically defined as the upper bound of the 95% confidence interval being less than 0.4% for the difference between the mean HbA1c changes for Novodra and Auralin (i.e. Novodra minus Auralin).\n",
    "\n",
    "> - **Based on this information I'm going to explore this experiment and make AB-Test to check if we should keep using Novodra for diabetes treatment or we should produce Auralin as new diabetes medicin.**"
   ]
  },
  {
   "cell_type": "markdown",
   "metadata": {},
   "source": [
    "\n",
    ">**$$H_0: M_{Novodra} -  M_{Aurlin} >=0.004 $$\n",
    "$$H_1: M_{Novodra} -  M_{Aurlin}  < 0.004 $$**"
   ]
  },
  {
   "cell_type": "markdown",
   "metadata": {},
   "source": [
    "- H0 is the null hypothesis\n",
    "- H1 is the Alternative hypothesis"
   ]
  },
  {
   "cell_type": "code",
   "execution_count": 77,
   "metadata": {},
   "outputs": [
    {
     "data": {
      "text/html": [
       "<div>\n",
       "<style scoped>\n",
       "    .dataframe tbody tr th:only-of-type {\n",
       "        vertical-align: middle;\n",
       "    }\n",
       "\n",
       "    .dataframe tbody tr th {\n",
       "        vertical-align: top;\n",
       "    }\n",
       "\n",
       "    .dataframe thead th {\n",
       "        text-align: right;\n",
       "    }\n",
       "</style>\n",
       "<table border=\"1\" class=\"dataframe\">\n",
       "  <thead>\n",
       "    <tr style=\"text-align: right;\">\n",
       "      <th></th>\n",
       "      <th>patient_id</th>\n",
       "      <th>hba1c_start</th>\n",
       "      <th>hba1c_end</th>\n",
       "      <th>hba1c_change</th>\n",
       "      <th>treatment</th>\n",
       "      <th>start_does</th>\n",
       "      <th>end_does</th>\n",
       "      <th>adverse_reaction</th>\n",
       "      <th>dose_change</th>\n",
       "    </tr>\n",
       "  </thead>\n",
       "  <tbody>\n",
       "    <tr>\n",
       "      <th>193</th>\n",
       "      <td>222</td>\n",
       "      <td>7.88</td>\n",
       "      <td>7.48</td>\n",
       "      <td>0.40</td>\n",
       "      <td>novodra</td>\n",
       "      <td>35.0</td>\n",
       "      <td>29.0</td>\n",
       "      <td>NaN</td>\n",
       "      <td>6.0</td>\n",
       "    </tr>\n",
       "    <tr>\n",
       "      <th>306</th>\n",
       "      <td>405</td>\n",
       "      <td>7.64</td>\n",
       "      <td>7.33</td>\n",
       "      <td>0.31</td>\n",
       "      <td>novodra</td>\n",
       "      <td>31.0</td>\n",
       "      <td>31.0</td>\n",
       "      <td>NaN</td>\n",
       "      <td>0.0</td>\n",
       "    </tr>\n",
       "    <tr>\n",
       "      <th>111</th>\n",
       "      <td>14</td>\n",
       "      <td>7.64</td>\n",
       "      <td>7.31</td>\n",
       "      <td>0.33</td>\n",
       "      <td>auralin</td>\n",
       "      <td>52.0</td>\n",
       "      <td>61.0</td>\n",
       "      <td>hypoglycemia</td>\n",
       "      <td>-9.0</td>\n",
       "    </tr>\n",
       "    <tr>\n",
       "      <th>185</th>\n",
       "      <td>145</td>\n",
       "      <td>7.66</td>\n",
       "      <td>7.24</td>\n",
       "      <td>0.42</td>\n",
       "      <td>novodra</td>\n",
       "      <td>47.0</td>\n",
       "      <td>48.0</td>\n",
       "      <td>NaN</td>\n",
       "      <td>-1.0</td>\n",
       "    </tr>\n",
       "    <tr>\n",
       "      <th>38</th>\n",
       "      <td>60</td>\n",
       "      <td>7.77</td>\n",
       "      <td>7.27</td>\n",
       "      <td>0.50</td>\n",
       "      <td>auralin</td>\n",
       "      <td>27.0</td>\n",
       "      <td>36.0</td>\n",
       "      <td>NaN</td>\n",
       "      <td>-9.0</td>\n",
       "    </tr>\n",
       "  </tbody>\n",
       "</table>\n",
       "</div>"
      ],
      "text/plain": [
       "     patient_id  hba1c_start  hba1c_end  hba1c_change treatment  start_does  \\\n",
       "193         222         7.88       7.48          0.40   novodra        35.0   \n",
       "306         405         7.64       7.33          0.31   novodra        31.0   \n",
       "111          14         7.64       7.31          0.33   auralin        52.0   \n",
       "185         145         7.66       7.24          0.42   novodra        47.0   \n",
       "38           60         7.77       7.27          0.50   auralin        27.0   \n",
       "\n",
       "     end_does adverse_reaction  dose_change  \n",
       "193      29.0              NaN          6.0  \n",
       "306      31.0              NaN          0.0  \n",
       "111      61.0     hypoglycemia         -9.0  \n",
       "185      48.0              NaN         -1.0  \n",
       "38       36.0              NaN         -9.0  "
      ]
     },
     "execution_count": 77,
     "metadata": {},
     "output_type": "execute_result"
    }
   ],
   "source": [
    "treatments_clean.sample(5)"
   ]
  },
  {
   "cell_type": "markdown",
   "metadata": {},
   "source": [
    "### AB test using confedince interval (95%)"
   ]
  },
  {
   "cell_type": "code",
   "execution_count": 78,
   "metadata": {},
   "outputs": [
    {
     "data": {
      "text/plain": [
       "0.004"
      ]
     },
     "execution_count": 78,
     "metadata": {},
     "output_type": "execute_result"
    }
   ],
   "source": [
    "# our noninferior point is 0.004 \n",
    "\n",
    "noninferior_point = 0.4/100\n",
    "noninferior_point"
   ]
  },
  {
   "cell_type": "code",
   "execution_count": 79,
   "metadata": {},
   "outputs": [],
   "source": [
    "# making bootstrap for sampling distrubution\n",
    "diff = []\n",
    "for i in range (10000):\n",
    "    boot_sample = treatments_clean.sample(treatments_clean.shape[0], replace=True)\n",
    "    nov_mean = boot_sample.query('treatment == \"novodra\"')[\"dose_change\"].mean()\n",
    "    aur_mean = boot_sample.query('treatment == \"auralin\"')[\"dose_change\"].mean()\n",
    "    diff.append(nov_mean - aur_mean)\n",
    "diff = np.array(diff)"
   ]
  },
  {
   "cell_type": "code",
   "execution_count": 80,
   "metadata": {},
   "outputs": [],
   "source": [
    "# lower and upper pound for the confidence interval \n",
    "\n",
    "low, high = np.percentile(diff, 2.5), np.percentile(diff, 97.5)"
   ]
  },
  {
   "cell_type": "code",
   "execution_count": 89,
   "metadata": {},
   "outputs": [
    {
     "data": {
      "image/png": "[encoded data removed]",
      "text/plain": [
       "<Figure size 432x288 with 1 Axes>"
      ]
     },
     "metadata": {
      "needs_background": "light"
     },
     "output_type": "display_data"
    }
   ],
   "source": [
    "# drawing sampling distrbution and check where is the noninferior point\n",
    "plt.hist(diff)\n",
    "plt.axvline(low , lw=2, color = \"r\")\n",
    "plt.axvline(high , lw=2, color = \"r\")\n",
    "plt.axvline(noninferior_point , lw=2, color = \"m\");"
   ]
  },
  {
   "cell_type": "markdown",
   "metadata": {},
   "source": [
    "<a id=\"conclusions\"></a>\n",
    "### Conclusion\n",
    "\n",
    "> **While 95% from our sampling distribution for difference between Novodra and aurlin hba1c level means is greater than noninferior point we fail to reject the null hypothesis.** \n",
    "\n",
    "> **Based on this data we have a statistical evidence to suggest keep using the Novodra for treating diabetes.**"
   ]
  },
  {
   "cell_type": "markdown",
   "metadata": {},
   "source": [
    "### AB test using P-value (alpha level is 0.05)"
   ]
  },
  {
   "cell_type": "code",
   "execution_count": 82,
   "metadata": {},
   "outputs": [
    {
     "data": {
      "text/plain": [
       "8.718390804597702"
      ]
     },
     "execution_count": 82,
     "metadata": {},
     "output_type": "execute_result"
    }
   ],
   "source": [
    "# the actual differince between novodra hba1c and auralin \n",
    "\n",
    "obs_diff = treatments_clean.query('treatment == \"novodra\"')[\"dose_change\"].mean() - treatments_clean.query('treatment == \"auralin\"')[\"dose_change\"].mean()\n",
    "obs_diff"
   ]
  },
  {
   "cell_type": "code",
   "execution_count": 83,
   "metadata": {},
   "outputs": [
    {
     "data": {
      "text/plain": [
       "0.30548487997889134"
      ]
     },
     "execution_count": 83,
     "metadata": {},
     "output_type": "execute_result"
    }
   ],
   "source": [
    "# hba1c standard deviation \n",
    "\n",
    "np.std(diff)"
   ]
  },
  {
   "cell_type": "code",
   "execution_count": 84,
   "metadata": {},
   "outputs": [
    {
     "data": {
      "image/png": "[encoded data removed]",
      "text/plain": [
       "<Figure size 432x288 with 1 Axes>"
      ]
     },
     "metadata": {
      "needs_background": "light"
     },
     "output_type": "display_data"
    }
   ],
   "source": [
    "# drawing sampling distrbution using noninferior_point for check p-value\n",
    "\n",
    "null = np.random.normal(noninferior_point, np.std(diff), size=10000)\n",
    "plt.hist(null)\n",
    "plt.axvline(obs_diff, color=\"r\", lw=2);"
   ]
  },
  {
   "cell_type": "code",
   "execution_count": 85,
   "metadata": {},
   "outputs": [
    {
     "data": {
      "text/plain": [
       "1.0"
      ]
     },
     "execution_count": 85,
     "metadata": {},
     "output_type": "execute_result"
    }
   ],
   "source": [
    "# check P-value \n",
    "(null<obs_diff).mean()"
   ]
  },
  {
   "cell_type": "markdown",
   "metadata": {},
   "source": [
    "#### using standrad error"
   ]
  },
  {
   "cell_type": "code",
   "execution_count": 86,
   "metadata": {},
   "outputs": [
    {
     "data": {
      "text/plain": [
       "0.27994416345530304"
      ]
     },
     "execution_count": 86,
     "metadata": {},
     "output_type": "execute_result"
    }
   ],
   "source": [
    "# hba1c standard error \n",
    "\n",
    "std_error = np.std(treatments_clean.dose_change) / np.sqrt(treatments_clean.shape[0])\n",
    "std_error"
   ]
  },
  {
   "cell_type": "code",
   "execution_count": 87,
   "metadata": {},
   "outputs": [
    {
     "data": {
      "image/png": "[encoded data removed]",
      "text/plain": [
       "<Figure size 432x288 with 1 Axes>"
      ]
     },
     "metadata": {
      "needs_background": "light"
     },
     "output_type": "display_data"
    }
   ],
   "source": [
    "# drawing sampling distrbution using noninferior_point for check p-value\n",
    "\n",
    "null_2 = np.random.normal(noninferior_point,std_error, size=10000)\n",
    "plt.hist(null_2)\n",
    "plt.axvline(obs_diff, color=\"r\", lw=2);"
   ]
  },
  {
   "cell_type": "code",
   "execution_count": 88,
   "metadata": {},
   "outputs": [
    {
     "data": {
      "text/plain": [
       "1.0"
      ]
     },
     "execution_count": 88,
     "metadata": {},
     "output_type": "execute_result"
    }
   ],
   "source": [
    "# check P-value\n",
    "(null_2<obs_diff).mean()"
   ]
  },
  {
   "cell_type": "markdown",
   "metadata": {},
   "source": [
    "<a id=\"conclusions_2\"></a>\n",
    "### Conclusion\n",
    "\n",
    "> **While p-value is greater than alpha level \"0.05\" we fail to reject the null hypothesis.** \n",
    "\n",
    "> **Based on this data we have a statistical evidence to suggest keep using the Novodra for treating diabetes.**"
   ]
  }
 ],
 "metadata": {
  "kernelspec": {
   "display_name": "Python 3 (ipykernel)",
   "language": "python",
   "name": "python3"
  },
  "language_info": {
   "codemirror_mode": {
    "name": "ipython",
    "version": 3
   },
   "file_extension": ".py",
   "mimetype": "text/x-python",
   "name": "python",
   "nbconvert_exporter": "python",
   "pygments_lexer": "ipython3",
   "version": "3.8.11"
  }
 },
 "nbformat": 4,
 "nbformat_minor": 2
}
